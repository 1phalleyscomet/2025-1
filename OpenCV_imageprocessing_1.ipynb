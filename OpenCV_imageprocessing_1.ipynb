{
  "nbformat": 4,
  "nbformat_minor": 0,
  "metadata": {
    "colab": {
      "provenance": [],
      "toc_visible": true,
      "authorship_tag": "ABX9TyMgeciY31wlk5o2HcrEEo6a",
      "include_colab_link": true
    },
    "kernelspec": {
      "name": "python3",
      "display_name": "Python 3"
    },
    "language_info": {
      "name": "python"
    }
  },
  "cells": [
    {
      "cell_type": "markdown",
      "metadata": {
        "id": "view-in-github",
        "colab_type": "text"
      },
      "source": [
        "<a href=\"https://colab.research.google.com/github/1phalleyscomet/2025-1/blob/main/OpenCV_imageprocessing_1.ipynb\" target=\"_parent\"><img src=\"https://colab.research.google.com/assets/colab-badge.svg\" alt=\"Open In Colab\"/></a>"
      ]
    },
    {
      "cell_type": "code",
      "source": [
        "#관심영역 지정 코드\n",
        "roi=img[y:y+h,x:x+w] #슬라이싱"
      ],
      "metadata": {
        "id": "Y1PL8UtRFeSA"
      },
      "execution_count": null,
      "outputs": []
    },
    {
      "cell_type": "code",
      "source": [
        "import cv2\n",
        "import numpy as np\n",
        "\n",
        "img=cv2.imread(\"../img/sunset.jpg\")\n",
        "\n",
        "x=320; y=150; w=50; h=50 #roi좌표\n",
        "roi=img[y:y+h,x:x+w] #roi 지정\n",
        "print(roi.shape) #roi shape,(50,50,3)\n",
        "cv2.rectangle(roi,(0,0),(h-1,w-1),(0,255,0)) #roi에 사각형 그리기\n",
        "#관심영역 지정 X시\n",
        "#cv2.rectangle(img,(x,y),(x+w,y+h),(0,255,0))\n",
        "cv2.imshow(\"img\",img)\n",
        "cv2.waitKey(0)\n",
        "cv2.destroyAllWindows()"
      ],
      "metadata": {
        "id": "rH7HPrw0Ix5p"
      },
      "execution_count": null,
      "outputs": []
    },
    {
      "cell_type": "code",
      "source": [
        "#관심영역만 새 창 표시\n",
        "import cv2\n",
        "import numpy as np\n",
        "\n",
        "img=cv2.imread(\"../img/sunset.jpg\")\n",
        "\n",
        "x=320; y=150; w=50; h=50 #roi좌표\n",
        "roi=img[y:y+h,x:x+w] #roi 지정\n",
        "img2=roi.copy()#roi 배열 복제\n",
        "img[y:y+h,x+w:x+w+w]=roi #새로운 좌표에 roi추가, 태양 2개 생성\n",
        "cv2.rectangle(img,(x,y),(x+w+w,y+h),(0,255,0))\n",
        "\n",
        "cv2.imshow(\"img\",img) #원본 이미지 출력\n",
        "cv2.imshow(\"roi\",img2) #roi만 따로 출력\n",
        "cv2.waitKey(0)\n",
        "cv2.destroyAllWindows()"
      ],
      "metadata": {
        "id": "bJpjlp19LEpO"
      },
      "execution_count": null,
      "outputs": []
    },
    {
      "cell_type": "code",
      "source": [
        "#마우스로 관심영역 지정\n",
        "import cv2\n",
        "import numpy as np\n",
        "\n",
        "isDragging=False #마우스 드래그 상태 저장\n",
        "x0,y0,w,h =-1=-1=-1=-1 #영역 선택 좌표 저장\n",
        "blue,red=(255,0,0),(0,0,255)\n",
        "\n",
        "def onMouse(event,x,y,flags,param): #마우스 이벤트 핸들 함수\n",
        "    global isDragging,x0,y0,img #전역변수 참조\n",
        "    if event==cv2.EVENT_LBUTTONDOWN: #마우스 왼쪽 버튼 누름\n",
        "        isDragging=True\n",
        "        x0=x\n",
        "        y0=y\n",
        "    elif event==cv2.EVENT_MOUSEMOVE: #마우스 움직임\n",
        "        if isDragging: #마우스 드래그 진행 중\n",
        "            img_draw=img.copy() #사각형 그림 표현을 위한 이미지 복제\n",
        "            cv2.rectangle(img_draw,(x0,y0),(x,y),blue,2) #드래그 진행 영역 표시\n",
        "            cv2.imshow('img',img_draw)\n",
        "        elif event == cv2.EVENT_LBUTTONUP\n",
        "            if isDragging =False\n",
        "            w=x-x0\n",
        "            h=y-y0\n",
        "            print(\"x:%d\",\"y:%d\",\"w:%d\",\"h:%d\" % (x0,y0,w,h))\n",
        "            if w>0 and h>0:\n",
        "                img_draw=img.copy()\n",
        "                cv2.rectangle(img_draw,(x0,y0),(x,y),red,2)\n",
        "                cv2.imshow('img',img_draw)\n",
        "                roi=img[y0:y0+h,x0:x0+w]\n",
        "                cv2.imshow('cropped',roi)\n",
        "                cv2.moveWindow('cropped',0,0)\n",
        "                cv2.imwrite('./cropped.jpg',roi)\n",
        "                print(\"cropped.\")\n",
        "            else:\n",
        "                cv.imshow('img',img)\n",
        "                print(\"좌측상단에서 우측 하단으로 드래그하세요.\"\n",
        "img=cv2.imread(\"../img/sunset.jpg\")\n",
        "cv2.imshow('img',img)\n",
        "cv2.setMoutseCallback('img',onMouse)\n",
        "cv2.waitKey()\n",
        "cv2.destroyAllWindows()"
      ],
      "metadata": {
        "id": "SljZAsqwMSVf"
      },
      "execution_count": null,
      "outputs": []
    },
    {
      "cell_type": "code",
      "source": [
        "#opencv 3 selectROI\n",
        "import cv2\n",
        "import numpy as np\n",
        "\n",
        "img=cv2.imread(\"../img/sunset.jpg\")\n",
        "x,y,h,w=cv2.selectROI('img',img,False)\n",
        "if w and h:\n",
        "    roi=img[y:y+h,x:x+w]\n",
        "    cv2.imshow('cropped',roi)\n",
        "    cv2.moveWindow('cropped',0,0)\n",
        "    cv2.imwrite('./cropped2.jpg',roi)\n",
        "\n",
        "cv2.imshow('img',img)\n",
        "cv2.waitKey(0)\n",
        "cv2.destroyAllWindows()"
      ],
      "metadata": {
        "id": "korqPu8IPNG9"
      },
      "execution_count": null,
      "outputs": []
    },
    {
      "cell_type": "code",
      "source": [
        "import cv2\n",
        "import numpy as np\n",
        "\n",
        "img=cv2.imread('../img/opencv_logo.png')\n",
        "bgr=cv2.imread('../img/opencv_logo.png',cv2.IMREAD_COLOR)\n",
        "bgra=cv2.imread('../img/opencv_logo.png',cv2.IMREAD_UNCHANGED)\n",
        "print(\"default:\",img.shape,'color:',bgr.shape,'unchanged:',bgra.shape)\n",
        "cv2.imshow('bgr',bgr)\n",
        "cv2.imshow('bgra',bgra)\n",
        "cv2.imshow('alpha',bgra[:,:,3])\n",
        "\n",
        "cv2.waitKey(0)\n",
        "cv2.destroyAllWindows()"
      ],
      "metadata": {
        "id": "ITh0l18QYNB3"
      },
      "execution_count": null,
      "outputs": []
    },
    {
      "cell_type": "code",
      "source": [
        "import cv2\n",
        "import numpy as np\n",
        "\n",
        "img=cv2.imread('../img/girl.png')\n",
        "img2=img.astype(np.unit16) #dtype변경\n",
        "b,g,r=cv2.split(img2)#채널별로 분리\n",
        "gray1=((b+g+r)/3.astype(np.uint8)#평균값 연산 후 dtype변경\n",
        "gray2=cv2.cvtColor(img,cv2,COLOR_BGR2GRAY) #BGR을 그레이 스케일로 변경\n",
        "cv2.imshow('original',img)\n",
        "cv2.imshow('gray1',gray1)\n",
        "cv2.imshow('gray2',gray2)\n",
        "\n",
        "cv2.waitKey(0)\n",
        "cv2.destroyAllWindow()"
      ],
      "metadata": {
        "id": "kp15JmEjcGbK"
      },
      "execution_count": null,
      "outputs": []
    },
    {
      "cell_type": "code",
      "source": [
        "#플래그 상수 출력\n",
        "[i for i in dir(cv2) if i.startswith('COLOR_')]"
      ],
      "metadata": {
        "id": "OB4NOCu5dv5x"
      },
      "execution_count": null,
      "outputs": []
    },
    {
      "cell_type": "code",
      "source": [
        "#BGR->HSV\n",
        "import cv2\n",
        "import numpy as np\n",
        "\n",
        "red_bgr=np.array([[[0,0,255]]],dype=np.uint8) #red값만 갖는 픽셀\n",
        "green_bgr=np.array([[[0,255,0]]],dype=np.uint8) #green값만 갖는 픽셀\n",
        "blue_bgr=np.array([[[255,0,0]]],dype=np.uint8) #blue값만 갖는 픽셀\n",
        "yellow_bgr=np.array([[[0,225,255]]],dype=np.uint8) #yellow값만 갖는 픽셀\n",
        "\n",
        "red_hsv=cv2.cvtColor(red_bgr,cv2.COLOR_BGR2HSV);\n",
        "green_hsv=cv2.cvtColor(green_bgr,cv2.COLOR_BGR2HSV);\n",
        "blue_hsv=cv2.cvtColor(blue_bgr,cv2.COLOR_BGR2HSV);\n",
        "yellow_hsv=cv2.cvtColor(yellow_bgr,cv2.COLOR_BGR2HSV);\n",
        "\n",
        "print('red:',red_hsv)\n",
        "print('green:',green_hsv)\n",
        "print('blue:',blue_hsv)\n",
        "print('yellow:',yellow_hsv)"
      ],
      "metadata": {
        "id": "avjHQW4VeZyk"
      },
      "execution_count": null,
      "outputs": []
    }
  ]
}