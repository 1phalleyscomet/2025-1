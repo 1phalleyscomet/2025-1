{
  "nbformat": 4,
  "nbformat_minor": 0,
  "metadata": {
    "colab": {
      "provenance": [],
      "authorship_tag": "ABX9TyPJvQr2ugp9MrgMrw9Bxd9L",
      "include_colab_link": true
    },
    "kernelspec": {
      "name": "python3",
      "display_name": "Python 3"
    },
    "language_info": {
      "name": "python"
    }
  },
  "cells": [
    {
      "cell_type": "markdown",
      "metadata": {
        "id": "view-in-github",
        "colab_type": "text"
      },
      "source": [
        "<a href=\"https://colab.research.google.com/github/1phalleyscomet/2025-1/blob/main/machinlearning.ipynb\" target=\"_parent\"><img src=\"https://colab.research.google.com/assets/colab-badge.svg\" alt=\"Open In Colab\"/></a>"
      ]
    },
    {
      "cell_type": "code",
      "execution_count": 1,
      "metadata": {
        "colab": {
          "base_uri": "https://localhost:8080/",
          "height": 430
        },
        "id": "qZHk11mIGCKd",
        "outputId": "818dcd90-c55a-4423-be28-aa7217099491"
      },
      "outputs": [
        {
          "output_type": "display_data",
          "data": {
            "text/plain": [
              "<Figure size 640x480 with 1 Axes>"
            ],
            "image/png": "[encoded data removed]"
          },
          "metadata": {}
        }
      ],
      "source": [
        "#k-means rand num cluster\n",
        "import numpy as np,cv2\n",
        "import matplotlib.pyplot as plt\n",
        "\n",
        "a=np.random.randint(0,150,(25,2))\n",
        "b=np.random.randint(128,255,(25,2))\n",
        "data=np.vstack((a,b)).astype(np.float32)\n",
        "criteria=(cv2.TERM_CRITERIA_EPS+cv2.TERM_CRITERIA_MAX_ITER,10,1.0)\n",
        "ret,label,center=cv2.kmeans(data,2,None,criteria,10,cv2.KMEANS_RANDOM_CENTERS)\n",
        "red=data[label.ravel()==0]\n",
        "blue=data[label.ravel()==1]\n",
        "\n",
        "plt.scatter(red[:,0],red[:,1],c='r')\n",
        "plt.scatter(blue[:,0],blue[:,1],c='b')\n",
        "plt.scatter(center[0,0],center[0,1],s=100,c='r',marker='s')\n",
        "plt.scatter(center[1,0],center[1,1],s=100,c='b',marker='s')\n",
        "plt.show()"
      ]
    },
    {
      "cell_type": "code",
      "source": [
        "#16 of color cluster\n",
        "import cv2\n",
        "import numpy as np\n",
        "\n",
        "k=16\n",
        "img=cv2.imread('img_latte.png')\n",
        "data=img.reshape((-1,3)).astype(np.float32)\n",
        "criteria=(cv2.TERM_CRITERIA_EPS+cv2.TERM_CRITERIA_MAX_ITER,10,1.0)\n",
        "ret,label,center=cv2.kmeans(data,k,None,criteria,10,cv2.KMEANS_RANDOM_CENTERS)\n",
        "center=np.uint8(center)\n",
        "result=center[label.flatten()]\n",
        "result=result.reshape((img.shape))\n",
        "merged=np.hstack((img,result))\n",
        "cv2.imshow('result',merged)\n",
        "cv2.waitKey(0)\n",
        "cv2.destroyAllWindows()"
      ],
      "metadata": {
        "id": "TIqiFBhwHAPF"
      },
      "execution_count": null,
      "outputs": []
    },
    {
      "cell_type": "code",
      "source": [
        "#MNIST handwright num image-set common module\n",
        "import numpy as np,cv2\n",
        "data=None\n",
        "k=list(range(10))\n",
        "\n",
        "def load():\n",
        "    global data\n",
        "    image=cv2.imread('mnist.png') #http://yann.lecun.com/exdb/mnist/\n",
        "    gray=cv2.cvtColor(image,cv2.COLOR_BGR2GRAY)\n",
        "    cells=[np.hsplit(row,100) for row in np.vsplit(gray,50)]\n",
        "    data=np.array(cells)\n",
        "\n",
        "def getData(reshape=True):\n",
        "    if data is None:  load()\n",
        "    if reshape:\n",
        "        full=data.reshape(-1,400).astype(np.float32)\n",
        "    else:\n",
        "        full=data\n",
        "    labels=np.repeat(k,500).reshape(-1,1)\n",
        "    return (full, labels)\n",
        "\n",
        "def getTrain(reshape=True):\n",
        "    if data is None: load()\n",
        "    train = data[:,:90]\n",
        "    if reshape:\n",
        "        train = train.reshape(-1,400).astype(np.float32)\n",
        "    train_labels=np.repeat(k,450).reshape(-1,1)\n",
        "    return(train,train_labels)\n",
        "\n",
        "def getTest(reshape=True):\n",
        "    if data is None: load()\n",
        "    test = data[:,90:100]\n",
        "    if reshape:\n",
        "        test = test.reshape(-1,400).astype(np.float32)\n",
        "    test_labels=np.repeat(k,50).reshape(-1,1)\n",
        "    return(test,test_labels)\n",
        "\n",
        "def digit2data(src,reshape=True):\n",
        "    h,w=src.shape[:2]\n",
        "    square=src\n",
        "    if h>w:\n",
        "        pad=(h-w)//2\n",
        "        square=np.zeros((h,h),dtype=np.uint8)\n",
        "        square[:,pad:pad+w, :]=src\n",
        "    elif h<w:\n",
        "        pad=(w-h)//2\n",
        "        square=np.zeros((w,w),dtype=np.uint8)\n",
        "        square[pad:pad+h,:]=src\n",
        "    px20=np.zeros((20,20),np.uint8)\n",
        "    px20[2:18,2:18]=cv2.resize(square,(16,16),interpolation=cv2.INTER_AREA)\n",
        "    if reshape:\n",
        "        px20=px20.reshape((1,400)).astype(np.float32)\n",
        "    return px20"
      ],
      "metadata": {
        "id": "pgVfRQCiHwOI"
      },
      "execution_count": null,
      "outputs": []
    },
    {
      "cell_type": "code",
      "source": [
        "#MNIST handwright cluster using k-means\n",
        "import cv2,numpy as np\n",
        "import matplotlib.pyplot as plt\n",
        "import mnist\n",
        "\n",
        "data,_=mnist.getData()\n",
        "criteria=(cv2.TERM_CRITERIA_EPS+cv2.TERM_CRITERIA_MAX_ITER,10,1.0)\n",
        "ret,label,center=cv2.kmeans(data,10,None,criteria,10,cv2.KMEANS_RANDOM_CENTERS)\n",
        "for i in range(10):\n",
        "    cent_img=center[i].reshape(20,20).astype(np.uint8)\n",
        "    plt.subplot(2,5,i+1)\n",
        "    plt.imshow(cent_img,'gray')\n",
        "    plt.xticks([]);plt.yticks([])\n",
        "plt.show()"
      ],
      "metadata": {
        "id": "8otJLjt2KyOk"
      },
      "execution_count": null,
      "outputs": []
    },
    {
      "cell_type": "code",
      "source": [
        "#k-nn rand num cluster\n",
        "import cv2, numpy as np\n",
        "import matplotlib.pyplot as plt\n",
        "\n",
        "trainData=np.random.randint(0,100,(25,2)).astype(np.float32)\n",
        "labels=np.random.randint(0,2,(25,1))\n",
        "red=trainData[labels.ravel()==0]\n",
        "blue=trainData[labels.ravel()==1]\n",
        "plt.scatter(red[:,0],red[:,1],80,'r','^')\n",
        "plt.scatter(blue[:,0],blue[:,1],80,'b','s')\n",
        "newcomer=np.random.randint(0,100,(1,2)).astype(np.float32)\n",
        "plt.scatter(newcomer[:,0],newcomer[:,1],80,'g','o')\n",
        "knn=cv2.ml.KNearest_create()\n",
        "knn.train(trainData,cv2.ml.ROW_SAMPLE,labels)\n",
        "ret,results,neighbours,dist=knn.findNearest(newcomer,3)\n",
        "print('ret:%s,result:%s,neighbours:%s,distance:%s'%(ret,results,neighbours,dist))\n",
        "plt.annotate('red' if ret==0.0 else 'blue',xy=newcomer[0],xytext=(newcomer[0]+1))\n",
        "plt.show()"
      ],
      "metadata": {
        "colab": {
          "base_uri": "https://localhost:8080/",
          "height": 577
        },
        "id": "UKfNd1JuL0ba",
        "outputId": "9bc47b8b-379d-496f-9c7f-a2e5276bd1e0"
      },
      "execution_count": 3,
      "outputs": [
        {
          "output_type": "stream",
          "name": "stdout",
          "text": [
            "ret:1.0,result:[[1.]],neighbours:[[0. 1. 1.]],distance:[[ 16. 197. 360.]]\n"
          ]
        },
        {
          "output_type": "stream",
          "name": "stderr",
          "text": [
            "/tmp/ipython-input-4214666977.py:9: MatplotlibDeprecationWarning: Passing the marker parameter of scatter() positionally is deprecated since Matplotlib 3.9; the parameter will become keyword-only in 3.11.\n",
            "  plt.scatter(red[:,0],red[:,1],80,'r','^')\n",
            "/tmp/ipython-input-4214666977.py:10: MatplotlibDeprecationWarning: Passing the marker parameter of scatter() positionally is deprecated since Matplotlib 3.9; the parameter will become keyword-only in 3.11.\n",
            "  plt.scatter(blue[:,0],blue[:,1],80,'b','s')\n",
            "/tmp/ipython-input-4214666977.py:12: MatplotlibDeprecationWarning: Passing the marker parameter of scatter() positionally is deprecated since Matplotlib 3.9; the parameter will become keyword-only in 3.11.\n",
            "  plt.scatter(newcomer[:,0],newcomer[:,1],80,'g','o')\n"
          ]
        },
        {
          "output_type": "display_data",
          "data": {
            "text/plain": [
              "<Figure size 640x480 with 1 Axes>"
            ],
            "image/png": "[encoded data removed]"
          },
          "metadata": {}
        }
      ]
    },
    {
      "cell_type": "code",
      "source": [
        "#k-nn movie cluster\n",
        "import cv2, numpy as np\n",
        "import matplotlib.pyplot as plt\n",
        "\n",
        "trainData=np.random.randint(0,100,(25,2)).astype(np.float32)\n",
        "responses=(trainData[:,0]>trainData[:,1]).astype(np.float32)\n",
        "action=trainData[responses==0]\n",
        "comedy=trainData[responses==1]\n",
        "plt.scatter(action[:,0],action[:,1],80,'b','^',label='action')\n",
        "plt.scatter(comedy[:,0],comedy[:,1],80,'r','s',label='comedy')\n",
        "newcomer=np.random.randint(0,100,(1,2)).astype(np.float32)\n",
        "plt.scatter(newcomer[:,0],newcomer[:,1],200,'g','s',label='new')\n",
        "\n",
        "knn=cv2.ml.KNearest_create()\n",
        "knn.train(trainData,cv2.ml.ROW_SAMPLE,responses)\n",
        "ret,results,neighbours,dist=knn.findNearest(newcomer,3)\n",
        "print('ret:%s,result:%s,neighbours:%s,distance:%s'%(ret,results,neighbours,dist))\n",
        "anno_x,anno_y=newcomer.ravel()\n",
        "label='action' if ret==0 else 'comedy'\n",
        "plt.annotate(label,xy=(anno_x+1,anno_y+1),xytext=(anno_x+5,anno_y+10),arrowprops={'color':'black'})\n",
        "plt.xlabel('laugh');plt.ylabel('kick')\n",
        "plt.legend(loc='upper right')\n",
        "plt.show()"
      ],
      "metadata": {
        "colab": {
          "base_uri": "https://localhost:8080/",
          "height": 596
        },
        "id": "qSS0luPVNgLG",
        "outputId": "47db4314-c6f3-47ab-8aa6-660629c11474"
      },
      "execution_count": 7,
      "outputs": [
        {
          "output_type": "stream",
          "name": "stdout",
          "text": [
            "ret:1.0,result:[[1.]],neighbours:[[1. 1. 1.]],distance:[[170. 314. 866.]]\n"
          ]
        },
        {
          "output_type": "stream",
          "name": "stderr",
          "text": [
            "/tmp/ipython-input-237262822.py:9: MatplotlibDeprecationWarning: Passing the marker parameter of scatter() positionally is deprecated since Matplotlib 3.9; the parameter will become keyword-only in 3.11.\n",
            "  plt.scatter(action[:,0],action[:,1],80,'b','^',label='action')\n",
            "/tmp/ipython-input-237262822.py:10: MatplotlibDeprecationWarning: Passing the marker parameter of scatter() positionally is deprecated since Matplotlib 3.9; the parameter will become keyword-only in 3.11.\n",
            "  plt.scatter(comedy[:,0],comedy[:,1],80,'r','s',label='comedy')\n",
            "/tmp/ipython-input-237262822.py:12: MatplotlibDeprecationWarning: Passing the marker parameter of scatter() positionally is deprecated since Matplotlib 3.9; the parameter will become keyword-only in 3.11.\n",
            "  plt.scatter(newcomer[:,0],newcomer[:,1],200,'g','s',label='new')\n"
          ]
        },
        {
          "output_type": "display_data",
          "data": {
            "text/plain": [
              "<Figure size 640x480 with 1 Axes>"
            ],
            "image/png": "[encoded data removed]"
          },
          "metadata": {}
        }
      ]
    },
    {
      "cell_type": "code",
      "source": [
        "#MNIST handwright num learning w/knn\n",
        "import numpy as np,cv2\n",
        "import mnist\n",
        "\n",
        "train,train_labels=mnist.getTrain()\n",
        "test,test_labels=mnist.getTest()\n",
        "knn=cv2.ml.KNearest_create()\n",
        "knn.train(train,cv2.ml.ROW_SAMPLE,train_labels)\n",
        "for k in range(1,11):\n",
        "    ret,result,neighbours,dist=knn.findNearest(test,k=k)\n",
        "    correct=np.sum(result==test_labels)\n",
        "    accuracy=correct/result.size*100.0\n",
        "    print('k=%s,accuracy=%.2f%%(%d/%d)'%(k,accuracy,correct,result.size))"
      ],
      "metadata": {
        "id": "tLSKbHuuPJiP"
      },
      "execution_count": null,
      "outputs": []
    },
    {
      "cell_type": "code",
      "source": [
        "#handwright num cog\n",
        "import numpy as np,cv2\n",
        "import mnist\n",
        "train,train_labels=mnist.getData()\n",
        "knn=cv2.ml.KNearest_create()\n",
        "knn.train(train,cv2.ml.ROW_SAMPLE,train_labels)\n",
        "\n",
        "img=cv2.imread('img1.png')\n",
        "cv2.imshow('img',img)\n",
        "cv2.waitkey(0)\n",
        "\n",
        "gray=cv2.cvtColor(img,cv2.COLOR_BGR2GRAY)\n",
        "gray=cv2.GaussianBlur(gray,(5,5),0)\n",
        "_,gray=cv2.threshold(gray,127,255,cv2.THRESH_BINARY_INV)\n",
        "img,contours,_=cv2.findContours(gray,cv2.RETR_EXTERNAL,cv2.CHAIN_APPROX_SIMPLE)\n",
        "for cnt in contours:\n",
        "    x,y,w,h=cv2.boundingRect(cnt)\n",
        "    if w>=5 and h>=25:\n",
        "        roi=gray[y:y+h,x:x+w]\n",
        "        cv2.ractangle(img,(x,y),(x+w,y+h),(0,255,0),1)\n",
        "        px20=mnist.digit2data(roi)\n",
        "        ret,result,neighbours,dist=knn.findNearest(data,k=1)\n",
        "        cv2.putText(img,'%d'%ret,(x,y+155),cv2.FONT_HERSHEY_SIMPLEX,2,(0,255,0),2)\n",
        "cv2.imshow('img',img)\n",
        "cv2.waitKey(0)\n",
        "cv2.destroyAllWindows()"
      ],
      "metadata": {
        "id": "A9snorOGQBkf"
      },
      "execution_count": null,
      "outputs": []
    }
  ]
}