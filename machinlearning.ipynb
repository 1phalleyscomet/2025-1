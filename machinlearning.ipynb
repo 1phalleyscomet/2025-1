{
  "nbformat": 4,
  "nbformat_minor": 0,
  "metadata": {
    "colab": {
      "provenance": [],
      "authorship_tag": "ABX9TyPV/S17ycbR6yghthXTfr3U",
      "include_colab_link": true
    },
    "kernelspec": {
      "name": "python3",
      "display_name": "Python 3"
    },
    "language_info": {
      "name": "python"
    }
  },
  "cells": [
    {
      "cell_type": "markdown",
      "metadata": {
        "id": "view-in-github",
        "colab_type": "text"
      },
      "source": [
        "<a href=\"https://colab.research.google.com/github/1phalleyscomet/2025-1/blob/main/machinlearning.ipynb\" target=\"_parent\"><img src=\"https://colab.research.google.com/assets/colab-badge.svg\" alt=\"Open In Colab\"/></a>"
      ]
    },
    {
      "cell_type": "code",
      "execution_count": null,
      "metadata": {
        "colab": {
          "base_uri": "https://localhost:8080/",
          "height": 430
        },
        "id": "qZHk11mIGCKd",
        "outputId": "818dcd90-c55a-4423-be28-aa7217099491"
      },
      "outputs": [
        {
          "output_type": "display_data",
          "data": {
            "text/plain": [
              "<Figure size 640x480 with 1 Axes>"
            ],
            "image/png": "[encoded data removed]"
          },
          "metadata": {}
        }
      ],
      "source": [
        "#k-means rand num cluster\n",
        "import numpy as np,cv2\n",
        "import matplotlib.pyplot as plt\n",
        "\n",
        "a=np.random.randint(0,150,(25,2))\n",
        "b=np.random.randint(128,255,(25,2))\n",
        "data=np.vstack((a,b)).astype(np.float32)\n",
        "criteria=(cv2.TERM_CRITERIA_EPS+cv2.TERM_CRITERIA_MAX_ITER,10,1.0)\n",
        "ret,label,center=cv2.kmeans(data,2,None,criteria,10,cv2.KMEANS_RANDOM_CENTERS)\n",
        "red=data[label.ravel()==0]\n",
        "blue=data[label.ravel()==1]\n",
        "\n",
        "plt.scatter(red[:,0],red[:,1],c='r')\n",
        "plt.scatter(blue[:,0],blue[:,1],c='b')\n",
        "plt.scatter(center[0,0],center[0,1],s=100,c='r',marker='s')\n",
        "plt.scatter(center[1,0],center[1,1],s=100,c='b',marker='s')\n",
        "plt.show()"
      ]
    },
    {
      "cell_type": "code",
      "source": [
        "#16 of color cluster\n",
        "import cv2\n",
        "import numpy as np\n",
        "\n",
        "k=16\n",
        "img=cv2.imread('img_latte.png')\n",
        "data=img.reshape((-1,3)).astype(np.float32)\n",
        "criteria=(cv2.TERM_CRITERIA_EPS+cv2.TERM_CRITERIA_MAX_ITER,10,1.0)\n",
        "ret,label,center=cv2.kmeans(data,k,None,criteria,10,cv2.KMEANS_RANDOM_CENTERS)\n",
        "center=np.uint8(center)\n",
        "result=center[label.flatten()]\n",
        "result=result.reshape((img.shape))\n",
        "merged=np.hstack((img,result))\n",
        "cv2.imshow('result',merged)\n",
        "cv2.waitKey(0)\n",
        "cv2.destroyAllWindows()"
      ],
      "metadata": {
        "id": "TIqiFBhwHAPF"
      },
      "execution_count": null,
      "outputs": []
    },
    {
      "cell_type": "code",
      "source": [
        "#MNIST handwright num image-set common module\n",
        "import numpy as np,cv2\n",
        "data=None\n",
        "k=list(range(10))\n",
        "\n",
        "def load():\n",
        "    global data\n",
        "    image=cv2.imread('mnist.png') #http://yann.lecun.com/exdb/mnist/\n",
        "    gray=cv2.cvtColor(image,cv2.COLOR_BGR2GRAY)\n",
        "    cells=[np.hsplit(row,100) for row in np.vsplit(gray,50)]\n",
        "    data=np.array(cells)\n",
        "\n",
        "def getData(reshape=True):\n",
        "    if data is None:  load()\n",
        "    if reshape:\n",
        "        full=data.reshape(-1,400).astype(np.float32)\n",
        "    else:\n",
        "        full=data\n",
        "    labels=np.repeat(k,500).reshape(-1,1)\n",
        "    return (full, labels)\n",
        "\n",
        "def getTrain(reshape=True):\n",
        "    if data is None: load()\n",
        "    train = data[:,:90]\n",
        "    if reshape:\n",
        "        train = train.reshape(-1,400).astype(np.float32)\n",
        "    train_labels=np.repeat(k,450).reshape(-1,1)\n",
        "    return(train,train_labels)\n",
        "\n",
        "def getTest(reshape=True):\n",
        "    if data is None: load()\n",
        "    test = data[:,90:100]\n",
        "    if reshape:\n",
        "        test = test.reshape(-1,400).astype(np.float32)\n",
        "    test_labels=np.repeat(k,50).reshape(-1,1)\n",
        "    return(test,test_labels)\n",
        "\n",
        "def digit2data(src,reshape=True):\n",
        "    h,w=src.shape[:2]\n",
        "    square=src\n",
        "    if h>w:\n",
        "        pad=(h-w)//2\n",
        "        square=np.zeros((h,h),dtype=np.uint8)\n",
        "        square[:,pad:pad+w, :]=src\n",
        "    elif h<w:\n",
        "        pad=(w-h)//2\n",
        "        square=np.zeros((w,w),dtype=np.uint8)\n",
        "        square[pad:pad+h,:]=src\n",
        "    px20=np.zeros((20,20),np.uint8)\n",
        "    px20[2:18,2:18]=cv2.resize(square,(16,16),interpolation=cv2.INTER_AREA)\n",
        "    if reshape:\n",
        "        px20=px20.reshape((1,400)).astype(np.float32)\n",
        "    return px20"
      ],
      "metadata": {
        "id": "pgVfRQCiHwOI"
      },
      "execution_count": null,
      "outputs": []
    },
    {
      "cell_type": "code",
      "source": [
        "#MNIST handwright cluster using k-means\n",
        "import cv2,numpy as np\n",
        "import matplotlib.pyplot as plt\n",
        "import mnist\n",
        "\n",
        "data,_=mnist.getData()\n",
        "criteria=(cv2.TERM_CRITERIA_EPS+cv2.TERM_CRITERIA_MAX_ITER,10,1.0)\n",
        "ret,label,center=cv2.kmeans(data,10,None,criteria,10,cv2.KMEANS_RANDOM_CENTERS)\n",
        "for i in range(10):\n",
        "    cent_img=center[i].reshape(20,20).astype(np.uint8)\n",
        "    plt.subplot(2,5,i+1)\n",
        "    plt.imshow(cent_img,'gray')\n",
        "    plt.xticks([]);plt.yticks([])\n",
        "plt.show()"
      ],
      "metadata": {
        "id": "8otJLjt2KyOk"
      },
      "execution_count": null,
      "outputs": []
    },
    {
      "cell_type": "code",
      "source": [
        "#k-nn rand num cluster\n",
        "import cv2, numpy as np\n",
        "import matplotlib.pyplot as plt\n",
        "\n",
        "trainData=np.random.randint(0,100,(25,2)).astype(np.float32)\n",
        "labels=np.random.randint(0,2,(25,1))\n",
        "red=trainData[labels.ravel()==0]\n",
        "blue=trainData[labels.ravel()==1]\n",
        "plt.scatter(red[:,0],red[:,1],80,'r','^')\n",
        "plt.scatter(blue[:,0],blue[:,1],80,'b','s')\n",
        "newcomer=np.random.randint(0,100,(1,2)).astype(np.float32)\n",
        "plt.scatter(newcomer[:,0],newcomer[:,1],80,'g','o')\n",
        "knn=cv2.ml.KNearest_create()\n",
        "knn.train(trainData,cv2.ml.ROW_SAMPLE,labels)\n",
        "ret,results,neighbours,dist=knn.findNearest(newcomer,3)\n",
        "print('ret:%s,result:%s,neighbours:%s,distance:%s'%(ret,results,neighbours,dist))\n",
        "plt.annotate('red' if ret==0.0 else 'blue',xy=newcomer[0],xytext=(newcomer[0]+1))\n",
        "plt.show()"
      ],
      "metadata": {
        "colab": {
          "base_uri": "https://localhost:8080/",
          "height": 577
        },
        "id": "UKfNd1JuL0ba",
        "outputId": "9bc47b8b-379d-496f-9c7f-a2e5276bd1e0"
      },
      "execution_count": null,
      "outputs": [
        {
          "output_type": "stream",
          "name": "stdout",
          "text": [
            "ret:1.0,result:[[1.]],neighbours:[[0. 1. 1.]],distance:[[ 16. 197. 360.]]\n"
          ]
        },
        {
          "output_type": "stream",
          "name": "stderr",
          "text": [
            "/tmp/ipython-input-4214666977.py:9: MatplotlibDeprecationWarning: Passing the marker parameter of scatter() positionally is deprecated since Matplotlib 3.9; the parameter will become keyword-only in 3.11.\n",
            "  plt.scatter(red[:,0],red[:,1],80,'r','^')\n",
            "/tmp/ipython-input-4214666977.py:10: MatplotlibDeprecationWarning: Passing the marker parameter of scatter() positionally is deprecated since Matplotlib 3.9; the parameter will become keyword-only in 3.11.\n",
            "  plt.scatter(blue[:,0],blue[:,1],80,'b','s')\n",
            "/tmp/ipython-input-4214666977.py:12: MatplotlibDeprecationWarning: Passing the marker parameter of scatter() positionally is deprecated since Matplotlib 3.9; the parameter will become keyword-only in 3.11.\n",
            "  plt.scatter(newcomer[:,0],newcomer[:,1],80,'g','o')\n"
          ]
        },
        {
          "output_type": "display_data",
          "data": {
            "text/plain": [
              "<Figure size 640x480 with 1 Axes>"
            ],
            "image/png": "[encoded data removed]"
          },
          "metadata": {}
        }
      ]
    },
    {
      "cell_type": "code",
      "source": [
        "#k-nn movie cluster\n",
        "import cv2, numpy as np\n",
        "import matplotlib.pyplot as plt\n",
        "\n",
        "trainData=np.random.randint(0,100,(25,2)).astype(np.float32)\n",
        "responses=(trainData[:,0]>trainData[:,1]).astype(np.float32)\n",
        "action=trainData[responses==0]\n",
        "comedy=trainData[responses==1]\n",
        "plt.scatter(action[:,0],action[:,1],80,'b','^',label='action')\n",
        "plt.scatter(comedy[:,0],comedy[:,1],80,'r','s',label='comedy')\n",
        "newcomer=np.random.randint(0,100,(1,2)).astype(np.float32)\n",
        "plt.scatter(newcomer[:,0],newcomer[:,1],200,'g','s',label='new')\n",
        "\n",
        "knn=cv2.ml.KNearest_create()\n",
        "knn.train(trainData,cv2.ml.ROW_SAMPLE,responses)\n",
        "ret,results,neighbours,dist=knn.findNearest(newcomer,3)\n",
        "print('ret:%s,result:%s,neighbours:%s,distance:%s'%(ret,results,neighbours,dist))\n",
        "anno_x,anno_y=newcomer.ravel()\n",
        "label='action' if ret==0 else 'comedy'\n",
        "plt.annotate(label,xy=(anno_x+1,anno_y+1),xytext=(anno_x+5,anno_y+10),arrowprops={'color':'black'})\n",
        "plt.xlabel('laugh');plt.ylabel('kick')\n",
        "plt.legend(loc='upper right')\n",
        "plt.show()"
      ],
      "metadata": {
        "colab": {
          "base_uri": "https://localhost:8080/",
          "height": 596
        },
        "id": "qSS0luPVNgLG",
        "outputId": "47db4314-c6f3-47ab-8aa6-660629c11474"
      },
      "execution_count": null,
      "outputs": [
        {
          "output_type": "stream",
          "name": "stdout",
          "text": [
            "ret:1.0,result:[[1.]],neighbours:[[1. 1. 1.]],distance:[[170. 314. 866.]]\n"
          ]
        },
        {
          "output_type": "stream",
          "name": "stderr",
          "text": [
            "/tmp/ipython-input-237262822.py:9: MatplotlibDeprecationWarning: Passing the marker parameter of scatter() positionally is deprecated since Matplotlib 3.9; the parameter will become keyword-only in 3.11.\n",
            "  plt.scatter(action[:,0],action[:,1],80,'b','^',label='action')\n",
            "/tmp/ipython-input-237262822.py:10: MatplotlibDeprecationWarning: Passing the marker parameter of scatter() positionally is deprecated since Matplotlib 3.9; the parameter will become keyword-only in 3.11.\n",
            "  plt.scatter(comedy[:,0],comedy[:,1],80,'r','s',label='comedy')\n",
            "/tmp/ipython-input-237262822.py:12: MatplotlibDeprecationWarning: Passing the marker parameter of scatter() positionally is deprecated since Matplotlib 3.9; the parameter will become keyword-only in 3.11.\n",
            "  plt.scatter(newcomer[:,0],newcomer[:,1],200,'g','s',label='new')\n"
          ]
        },
        {
          "output_type": "display_data",
          "data": {
            "text/plain": [
              "<Figure size 640x480 with 1 Axes>"
            ],
            "image/png": "[encoded data removed]"
          },
          "metadata": {}
        }
      ]
    },
    {
      "cell_type": "code",
      "source": [
        "#MNIST handwright num learning w/knn\n",
        "import numpy as np,cv2\n",
        "import mnist\n",
        "\n",
        "train,train_labels=mnist.getTrain()\n",
        "test,test_labels=mnist.getTest()\n",
        "knn=cv2.ml.KNearest_create()\n",
        "knn.train(train,cv2.ml.ROW_SAMPLE,train_labels)\n",
        "for k in range(1,11):\n",
        "    ret,result,neighbours,dist=knn.findNearest(test,k=k)\n",
        "    correct=np.sum(result==test_labels)\n",
        "    accuracy=correct/result.size*100.0\n",
        "    print('k=%s,accuracy=%.2f%%(%d/%d)'%(k,accuracy,correct,result.size))"
      ],
      "metadata": {
        "id": "tLSKbHuuPJiP"
      },
      "execution_count": null,
      "outputs": []
    },
    {
      "cell_type": "code",
      "source": [
        "#handwright num cog\n",
        "import numpy as np,cv2\n",
        "import mnist\n",
        "train,train_labels=mnist.getData()\n",
        "knn=cv2.ml.KNearest_create()\n",
        "knn.train(train,cv2.ml.ROW_SAMPLE,train_labels)\n",
        "\n",
        "img=cv2.imread('img1.png')\n",
        "cv2.imshow('img',img)\n",
        "cv2.waitkey(0)\n",
        "\n",
        "gray=cv2.cvtColor(img,cv2.COLOR_BGR2GRAY)\n",
        "gray=cv2.GaussianBlur(gray,(5,5),0)\n",
        "_,gray=cv2.threshold(gray,127,255,cv2.THRESH_BINARY_INV)\n",
        "img,contours,_=cv2.findContours(gray,cv2.RETR_EXTERNAL,cv2.CHAIN_APPROX_SIMPLE)\n",
        "for cnt in contours:\n",
        "    x,y,w,h=cv2.boundingRect(cnt)\n",
        "    if w>=5 and h>=25:\n",
        "        roi=gray[y:y+h,x:x+w]\n",
        "        cv2.ractangle(img,(x,y),(x+w,y+h),(0,255,0),1)\n",
        "        px20=mnist.digit2data(roi)\n",
        "        ret,result,neighbours,dist=knn.findNearest(data,k=1)\n",
        "        cv2.putText(img,'%d'%ret,(x,y+155),cv2.FONT_HERSHEY_SIMPLEX,2,(0,255,0),2)\n",
        "cv2.imshow('img',img)\n",
        "cv2.waitKey(0)\n",
        "cv2.destroyAllWindows()"
      ],
      "metadata": {
        "id": "A9snorOGQBkf"
      },
      "execution_count": null,
      "outputs": []
    },
    {
      "cell_type": "code",
      "source": [
        "#SVM rand num org\n",
        "import cv2\n",
        "import numpy as np\n",
        "import matplotlib.pylab as plt\n",
        "\n",
        "a=np.random.randint(0,158,(25,2))\n",
        "b=np.random.randint(98,255,(25,2))\n",
        "trainData=np.vstack((a,b)).astype(np.float32)\n",
        "responses=np.zeros((50,1),np.int32)\n",
        "responses[:25]=1\n",
        "\n",
        "red=trainData[responses.ravel()==0]\n",
        "plt.scatter(red[:,0],red[:,1],80,'r','^')\n",
        "blue=trainData[responses.ravel()==1]\n",
        "plt.scatter(blue[:,0],blue[:,1],80,'b','s')\n",
        "newcomer=np.random.randint(0,255,(1,2)).astype(np.float32)\n",
        "plt.scatter(newcomer[:,0],newcomer[:,1],80,'g','o')\n",
        "svm=cv2.ml.SVM_create()\n",
        "svm.trainAuto(trainData,cv2.ml.ROW_SAMPLE,responses)\n",
        "svm.save('svm_rand.xml')\n",
        "svm2=cv2.ml.SVM_load('svm_rand.xml')\n",
        "ret,result=svm2.predict(newcomer)\n",
        "plt.annotate('red' if ret==0 else 'blue',xy=newcomer[0],xytext=(newcomer[0]+1))\n",
        "print('ret:%s,result:%s'%(ret,result))\n",
        "plt.show()\n"
      ],
      "metadata": {
        "colab": {
          "base_uri": "https://localhost:8080/",
          "height": 557
        },
        "id": "NxXmkococctt",
        "outputId": "12b26339-ab71-429c-882c-99025666b9fc"
      },
      "execution_count": null,
      "outputs": [
        {
          "output_type": "stream",
          "name": "stdout",
          "text": [
            "ret:0.0,result:[[0.]]\n"
          ]
        },
        {
          "output_type": "stream",
          "name": "stderr",
          "text": [
            "/tmp/ipython-input-2427887466.py:13: MatplotlibDeprecationWarning: Passing the marker parameter of scatter() positionally is deprecated since Matplotlib 3.9; the parameter will become keyword-only in 3.11.\n",
            "  plt.scatter(red[:,0],red[:,1],80,'r','^')\n",
            "/tmp/ipython-input-2427887466.py:15: MatplotlibDeprecationWarning: Passing the marker parameter of scatter() positionally is deprecated since Matplotlib 3.9; the parameter will become keyword-only in 3.11.\n",
            "  plt.scatter(blue[:,0],blue[:,1],80,'b','s')\n",
            "/tmp/ipython-input-2427887466.py:17: MatplotlibDeprecationWarning: Passing the marker parameter of scatter() positionally is deprecated since Matplotlib 3.9; the parameter will become keyword-only in 3.11.\n",
            "  plt.scatter(newcomer[:,0],newcomer[:,1],80,'g','o')\n"
          ]
        },
        {
          "output_type": "display_data",
          "data": {
            "text/plain": [
              "<Figure size 640x480 with 1 Axes>"
            ],
            "image/png": "[encoded data removed]"
          },
          "metadata": {}
        }
      ]
    },
    {
      "cell_type": "code",
      "source": [
        "#MNIST hand-write HOG_SVM learning\n",
        "import cv2\n",
        "import numpy as np\n",
        "import mnist\n",
        "import time\n",
        "\n",
        "affine_flags=cv2.WARP_INVERSE_MAP|cv2.INTER_LINEAR\n",
        "def deskew(img):\n",
        "    m=cv2.moments(img)\n",
        "    if abs(m['mu02'])<1e-2:\n",
        "        return img.copy()\n",
        "        skew=m['mu11']/m['mu02']\n",
        "        M=np.float32([[1,skew,-0.5*20*skew],[0,1,0]])\n",
        "        img=cv2.warpAffine(img,M,(20,20),flags=affine_flags)\n",
        "        return img\n",
        "\n",
        "winSize=(20,20)\n",
        "blockSize=(10,10)\n",
        "blockStride=(5,5)\n",
        "cellSize=(5,5)\n",
        "nbins=9\n",
        "hogDesc=cv2.HOGDescriptor(winSize,blockSize,blockStride,cellSize,nbins)\n",
        "\n",
        "if __name__=='__main__':\n",
        "    train_data,train_label=mnist.getTrain(reshape=False)\n",
        "    test_data,test_label=mnist.getTest(reshape=False)\n",
        "    deskewed=[list(map(deskew,row)) for row in train_data]\n",
        "    hogdata=[map(hogDesc.compute,row) for row in deskewed]\n",
        "    train_data=np.float32(hogdata)\n",
        "    print('SVM training started...train data:',train_data.shape)\n",
        "    train_data=train_data.reshape(-1,train_data.shape[2])\n",
        "    svm=cv2.ml.SVM_create()\n",
        "    startT=time.time()\n",
        "    svm.trainAuto(train_data,cv2.ml.ROW_SAMPLE,train_label)\n",
        "    endT=time.time()-startT\n",
        "    print('SVM training complete. %.2f Min'%(endT/60))\n",
        "    svm.save('svm_mnist.xml')\n",
        "\n",
        "    deskewed=[list(map(deskew,row)) for row in test_data]\n",
        "    hogdata=[map(hogDesc.compute,row) for row in deskewed]\n",
        "    test_data=np.float32(hogdata)\n",
        "    test_data=test_data.reshape(-1,test_data.shape[2])\n",
        "    ret,result=svm.predict(test_data)\n",
        "    correct=(result==test_label).sum()\n",
        "    print('accuracy=%.2f%%(%d/%d)'%(correct*100.0/result.size))\n"
      ],
      "metadata": {
        "id": "PAkV9XhHd97U"
      },
      "execution_count": null,
      "outputs": []
    },
    {
      "cell_type": "code",
      "source": [
        "#HOG-SVM hand write num rec\n",
        "import cv2\n",
        "import numpy as np\n",
        "import mnist\n",
        "import svm_mnist_hog_train #MNIST hand-write HOG_SVM learning\n",
        "\n",
        "svm=cv2.ml.SVM_load('svm_mnist.xml')\n",
        "img=cv2.imread('img1.png')\n",
        "cv2.imshow('img',img)\n",
        "cv2.waitKey(0)\n",
        "\n",
        "gray=cv2.cvtColor(img,cv2.COLOR_BGR2GRAY)\n",
        "gray=cv2.GaussianBlur(gray,(5,5),0)\n",
        "_,gray=cv2.threshold(gray,127,255,cv2.THRESH_BINARY_INV)\n",
        "img,contours,_=cv2.findContours(gray,cv2.RETR_EXTERNAL,cv2.CHAIN_APPROX_SIMPLE)\n",
        "for c in contours:\n",
        "    (x,y,w,h)=cv2.boundingRect(c)\n",
        "    if w>=5 and h>=25:\n",
        "        roi=gray[y:y+h,x:x+w]\n",
        "        cv2.rectangle(img,(x,y),(x+w,y+h),(0,255,0),1)\n",
        "        px20=mnist.digit2data(roi,False)\n",
        "        deskewed=svm_mnist_hog_train.deskew(px20)\n",
        "        hogdata=svm_mnist_hog_train.hogDesc.compute(deskewed)\n",
        "        test_data=np.float32(hogdata).reshape(-1,hogdata[0])\n",
        "        ret,result=svm.predict(test_data)\n",
        "        cv2.putText(img,'%d'%result[0],(x,y+155),cv2.FONT_HERSHEY_COMPLEX,2,(0,255,0),2)\n",
        "        cv2.imshow('img',img)\n",
        "        cv2.waitKey(0)\n",
        "cv2.destroyAllWindows()"
      ],
      "metadata": {
        "id": "7WjtATaihvzk"
      },
      "execution_count": null,
      "outputs": []
    },
    {
      "cell_type": "code",
      "source": [
        "#HOG_SVM pedsrian detect\n",
        "import cv2\n",
        "\n",
        "hogdef=cv2.HOGDescriptor()\n",
        "hogdef.setSVMDetector(cv2.HOGDescriptor_getDefaultPeopleDetector())\n",
        "hogdaim=cv2.HOGDescriptor((48,96),(16,16),(8,8),(8,8),9)\n",
        "hogdaim.setSVMDetector(cv2.HOGDescriptor_getDaimlerPeopleDetector())\n",
        "cap=cv2.VideoCapture('pedestrians.avi')\n",
        "mode=True\n",
        "print('Toggle Space-bar to change mode.')\n",
        "while cap.isOpened():\n",
        "    ret,img=cap.read()\n",
        "    if ret:\n",
        "        if mode:\n",
        "            found,_=hogdef.detectMultiScale(img)\n",
        "            for (x,y,w,h) in found:\n",
        "                cv2.rectangle(img,(x,y),(x+w,y+h),(0,255,0))\n",
        "            else:\n",
        "                found,_=hogdaim.detectMultiScale(img)\n",
        "                for (x,y,w,h) in found:\n",
        "                    cv2.rectangle(img,(x,y),(x+w,y+h),(0,255,0))\n",
        "                cv2.putText(img,'Detector:%s'%('Default' if mode else 'Daimler'),(10,50),cv2.FONT_HERSHEY_DUPLEX,1,(0,255,0),1)\n",
        "                cv2.imshow('frame',img)\n",
        "                key=cv2.waitKey(1)\n",
        "                if key==27:\n",
        "                    break\n",
        "                elif key==ord(' '):\n",
        "                    mode=not mode\n",
        "        else:\n",
        "            break\n",
        "cap.release()\n",
        "cv2.destroyAllWindows()"
      ],
      "metadata": {
        "id": "l7EnNaA5khnh"
      },
      "execution_count": null,
      "outputs": []
    },
    {
      "cell_type": "code",
      "source": [
        "#plain and bike rec w/ BOW and SVM\n",
        "import cv2\n",
        "import numpy as np\n",
        "import os,glob,time\n",
        "\n",
        "startT=time.time()\n",
        "categories=['airplanes','Motorbikes']\n",
        "dictionary_size=50\n",
        "base_path=''#학습 이미지 기본경로\n",
        "dict_file=''#사전 객체를 저장할 파일 이름\n",
        "svm_model_file=''#SVM모델 객체 저장할 파일 이름\n",
        "\n",
        "detector=cv2.xfeatures2d.SIFT_create()\n",
        "matcher=cv2.BFMatcher(cv2.NORM_L2)\n",
        "bowTrainer=cv2.BOWKMeansTrainer(dictionary_size)\n",
        "bowExtractor=cv2.BOWImgDescriptorExtractor(detector,matcher)\n",
        "\n",
        "train_paths=[]\n",
        "train_labels=[]\n",
        "print('Adding descriptor to BOWTrainer...')\n",
        "for idx,category in enumerate(categories):\n",
        "    dir_path=base_path+category\n",
        "    img_paths=glob.glob(dir_path+'/*.jpg')\n",
        "    img_len=len(img_paths)\n",
        "    for i,img_path in enumerate(img_paths):\n",
        "        train_paths.append(img_path)\n",
        "        train_labels.append(idx)\n",
        "        img=cv2.imread(img_path)\n",
        "        gray=cv2.cvtColor(img,cv2.COLOR_BGR2GRAY)\n",
        "        kpt,des=detector.detectAndCompute(gray,None)\n",
        "        bowTrainer.add(des)\n",
        "        print('\\t%s %d/%d(%.2f%%)'%(category,i+1,img_len,(i+1)/img_len*100),end='\\r')\n",
        "    print()\n",
        "print(\"Adding descriptor completed...\")\n",
        "\n",
        "print('Starting Dictionary clustering(%d)... It will take several time...'%dictionary_size)\n",
        "dictionary=bowTrainer.cluster()\n",
        "np.save(dict_file,dictionary)\n",
        "print('Dictionary clustering completed...dictionary shape:',dictionary.shape)\n",
        "\n",
        "bowExtractor.setVocabulary(dictionary)\n",
        "train_des=[]\n",
        "for i, path in enumerate(train_paths):\n",
        "    img=cv2.imread(path)\n",
        "    gray=cv2.cvtColor(img,cv2.COLOR_BGR2GRAY)\n",
        "    hist=bowExtractor.compute(gray,None)\n",
        "    train_des.extend(hist)\n",
        "    print('Compute histogram training set...(%.2f%%)'%((i+1)/len(train_paths)*100),end='\\r')\n",
        "print('\\nsvm items',len(train_des),len(train_des[0]))\n",
        "print('svm training...')\n",
        "svm=cv2.ml.SVM_create()\n",
        "svm.trainAuto(np.array(train_des),cv2.ml.ROW_SAMPLE,np.array(train_labels))\n",
        "svm.save(svm_model_file)\n",
        "print('svm training complete.')\n",
        "print('training elapsed: %s'%time.strftime('%H:%M:%S',time.gmtime(time.time()-startT)))\n",
        "print('Accuracy(Self)')\n",
        "for label,dir_name in enumerate(categories):\n",
        "    labels=[]\n",
        "    results=[]\n",
        "    img_paths=glob.glob(base_path+'/'+dir_name+'/*.*')\n",
        "    for img_path in img_paths:\n",
        "        labels.append(label)\n",
        "        img=cv2.imread(img_path)\n",
        "        gray=cv2.cvtColor(img,cv2.COLOR_BGR2GRAY)\n",
        "        feature=bowExtractor.compute(gray,None)\n",
        "        ret,result=svm.predict(feature)\n",
        "        resp=result[0][0]\n",
        "        results.append(resp)\n",
        "\n",
        "    labels=np.array(labels)\n",
        "    results=np.array(results)\n",
        "    err=(labels !=results)\n",
        "    err_mean=err.mean()\n",
        "    print('\\t%s:%.f%%'%(dir_name,(1-err_mean)*100))"
      ],
      "metadata": {
        "id": "sdqpz0M6s6Yo"
      },
      "execution_count": null,
      "outputs": []
    },
    {
      "cell_type": "code",
      "source": [
        "#plane n bike rec w/BOW-SVM\n",
        "import cv2\n",
        "import numpy as np\n",
        "\n",
        "categories=['airplanes','motorbikes']\n",
        "dict_file='plane_bike_dict.npy'\n",
        "svm_model_file='plane_bike_svm.xml'\n",
        "\n",
        "imgs=['a1.jpg','a2.jpg','b1.jpg','b2.jpg']\n",
        "\n",
        "detector=cv2.xfeatures2d.SIFT_create()\n",
        "bowExtractor=cv2.BOWImgDescriptorExtractor(detector,cv2.BFMatcher(cv2.NORM_L2))\n",
        "bowExtractor.setVocabulary(np.load(dict_file))\n",
        "svm=cv2.ml.SVM_load(svm_model_file)\n",
        "\n",
        "for i,path in enumerate(imgs):\n",
        "    img=cv2.imread(path)\n",
        "    gray=cv2.cvtColor(img,cv2.COLOR_BGR2GRAY)\n",
        "    hist=bowExtractor.compute(gray,detector.detect(gray))\n",
        "    ret,result=svm.predict(hist)\n",
        "    name=categories[int(result[0][0])]\n",
        "    txt,base=cv2.getTextSize(name,cv2.FONT_HERSHEY_SIMPLEX,1,2)\n",
        "    x,y=10,50\n",
        "    cv2.rectangle(img,(x,y-base-txt[1]),(x+txt[0],y+txt[1]),(0,255,0),-1)\n",
        "    cv2.putText(img,name,(x,y),cv2.FONT_HERSHEY_SIMPLEX,1,(0,0,0),2,cv2.LINE_AA)\n",
        "    cv2.imshow(path,img)\n",
        "    cv2.waitKey(0)\n",
        "cv2.destroyAllWindows()"
      ],
      "metadata": {
        "id": "4tD8tMRu9jd5"
      },
      "execution_count": null,
      "outputs": []
    }
  ]
}