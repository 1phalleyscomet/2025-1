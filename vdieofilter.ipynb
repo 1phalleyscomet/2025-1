{
  "nbformat": 4,
  "nbformat_minor": 0,
  "metadata": {
    "colab": {
      "provenance": [],
      "authorship_tag": "ABX9TyOdB8GezPGfbQCEzrpKhrYd",
      "include_colab_link": true
    },
    "kernelspec": {
      "name": "python3",
      "display_name": "Python 3"
    },
    "language_info": {
      "name": "python"
    }
  },
  "cells": [
    {
      "cell_type": "markdown",
      "metadata": {
        "id": "view-in-github",
        "colab_type": "text"
      },
      "source": [
        "<a href=\"https://colab.research.google.com/github/1phalleyscomet/2025-1/blob/main/vdieofilter.ipynb\" target=\"_parent\"><img src=\"https://colab.research.google.com/assets/colab-badge.svg\" alt=\"Open In Colab\"/></a>"
      ]
    },
    {
      "cell_type": "code",
      "execution_count": null,
      "metadata": {
        "id": "M9hvz8Gp6-hi"
      },
      "outputs": [],
      "source": [
        "#평균필터를 생성해 블러 적용\n",
        "import cv2\n",
        "import numpy as np\n",
        "img=cv2.imread('img_hodu1.jpeg')\n",
        "'''\n",
        "kernel=np.array([[0.04,0.04,0.04,0.04,0.04],\n",
        "                [0.04,0.04,0.04,0.04,0.04],\n",
        "                [0.04,0.04,0.04,0.04,0.04],\n",
        "                [0.04,0.04,0.04,0.04,0.04],\n",
        "                [0.04,0.04,0.04,0.04,0.04]])\n",
        "'''\n",
        "kernel=np.ones((5,5))/5**2\n",
        "dst=cv2.filter2D(img,-1,kernel)\n",
        "cv2.imshow('img',img)\n",
        "cv2.imshow('dst',dst)\n",
        "cv2.waitKey(0)\n",
        "cv2.destroyAllWindows()"
      ]
    },
    {
      "cell_type": "code",
      "source": [
        "import cv2\n",
        "import numpy as np\n",
        "\n",
        "file_name='img_latte.jpg'\n",
        "img=cv2.imread(file_name)\n",
        "\n",
        "#blur()\n",
        "blur1=cv2.blur(img,(10,10))\n",
        "#boxFilter()\n",
        "blur2=cv2.boxFilter(img,-1,(10,10))\n",
        "\n",
        "merged=np.hstack((img,blur1,blur2))\n",
        "cv2.imshow('blur',merged)\n",
        "cv2.waitKey(0)\n",
        "cv2.destroyAllWindows()"
      ],
      "metadata": {
        "id": "AzgDgS0qFxjo"
      },
      "execution_count": null,
      "outputs": []
    },
    {
      "cell_type": "code",
      "source": [
        "#가우시안 블러\n",
        "import cv2\n",
        "import numpy as np\n",
        "\n",
        "img=cv2.imread('img_latte.jpg')\n",
        "#가우시안 커널 직접 생성\n",
        "k1=np.array([1,2,1],\n",
        "            [2,4,2],\n",
        "            [1,2,1])*(1/16)\n",
        "blur1=cv2.filter2D(img,-1,k1)\n",
        "#가우시안 커널을 api로 얻어 블러링\n",
        "k2=cv2.getGaussianKernel(3,0)\n",
        "blur2=cv2.filter2D(img,-1,k2*k2.T)\n",
        "#가우시안 블러 api로 블러링\n",
        "blur3=cv2.GaussianBlur(img,(3,3),0)\n",
        "\n",
        "print('k1',k1)\n",
        "print('k2',k2)\n",
        "merged=np.hstack((img,blur1,blur2,blur3))\n",
        "cv2.imshow('blur',merged)\n",
        "cv2.waitKey(0)\n",
        "cv2.destroyAllWindows()"
      ],
      "metadata": {
        "id": "IVE_4dwmMKHU"
      },
      "execution_count": null,
      "outputs": []
    },
    {
      "cell_type": "code",
      "source": [
        "#미디언 블러링\n",
        "import cv2\n",
        "import numpy as np\n",
        "\n",
        "img=cv2.imread('img_latte.jpg')\n",
        "blur1=cv2.medianBlur(img,5)\n",
        "\n",
        "merged=np.hstack((img,blur))\n",
        "cv2.imshow('blur',merged)\n",
        "cv2.waitKey(0)\n",
        "cv2.destroyAllWindows()"
      ],
      "metadata": {
        "id": "aB4YfaDUNiPM"
      },
      "execution_count": null,
      "outputs": []
    },
    {
      "cell_type": "code",
      "source": [
        "#바이레터럴 필터와 가우시안 필터 비교\n",
        "import cv2\n",
        "import numpy as np\n",
        "\n",
        "img=cv2.imread('img_latte.jpg')\n",
        "#가우시안 필터\n",
        "blur1=cv2.GaussianBlur(img,(5,5),0)\n",
        "#바이레터럴 필터\n",
        "blur2=cv2.bilateralFilter(img,5,75,75)\n",
        "\n",
        "merged=np.hstack((img,blur1,blur2))\n",
        "cv2.imshow('blur',merged)\n",
        "cv2.waitKey(0)\n",
        "cv2.destroyAllWindows()"
      ],
      "metadata": {
        "id": "VV-HnNMKO-Ax"
      },
      "execution_count": null,
      "outputs": []
    },
    {
      "cell_type": "code",
      "source": [
        "#미분커널로 경계검출\n",
        "import cv2\n",
        "import numpy as np\n",
        "\n",
        "img=cv2.imread('img_latte.jpg')\n",
        "\n",
        "gx_kernel=np.array([[[1,-1]])\n",
        "gy_kernel=np.array([[-1],[1]])\n",
        "\n",
        "edge_gx=cv2.filter2D(img,-1,gx_kernel)\n",
        "edge_gy=cv2.filter2D(img,-1,gy_kernel)\n",
        "\n",
        "merged=np.hstack((img,edge_gx,edge_gy))\n",
        "cv2.imshow('edge',merged)\n",
        "cv2.waitKey(0)\n",
        "cv2.destroyAllWindows()"
      ],
      "metadata": {
        "id": "R66ndWsyQ9Y6"
      },
      "execution_count": null,
      "outputs": []
    },
    {
      "cell_type": "code",
      "source": [
        "#로버츠 교차 필터\n",
        "import cv2\n",
        "import numpy as np\n",
        "\n",
        "img=cv2.imread('img_latte.jpg')\n",
        "\n",
        "\n",
        "gx_kernel=np.array([[[1,0],[0,-1]])\n",
        "gy_kernel=np.array([[0,1],[-1,0]])\n",
        "\n",
        "edge_gx=cv2.filter2D(img,-1,gx_kernel)\n",
        "edge_gy=cv2.filter2D(img,-1,gy_kernel)\n",
        "\n",
        "merged=np.hstack((img,edge_gx,edge_gy,edge_gx+edge_gy))\n",
        "cv2.imshow('edge',merged)\n",
        "cv2.waitKey(0)\n",
        "cv2.destroyAllWindows()"
      ],
      "metadata": {
        "id": "Ns198-LF6Ud-"
      },
      "execution_count": null,
      "outputs": []
    },
    {
      "cell_type": "code",
      "source": [
        "#프리윗\n",
        "import cv2\n",
        "import numpy as np\n",
        "\n",
        "file_name='img_latte.jpg'\n",
        "img=cv2.imread(file_name)\n",
        "\n",
        "gx_k=np.array([[-1,0,1],[-1,0,1],[-1,0,1]])\n",
        "gy_k=np.array([[-1,-1,-1],[0,0,0],[1,1,1]])\n",
        "\n",
        "edge_gx=cv2.filter2D(img,-1,gx_k)\n",
        "edge_gy=cv2.filter2D(img,-1,gy_k)\n",
        "\n",
        "merged=np.hstack((img,edge_gx,edge_gy,edge_gx+edge_gy))\n",
        "cv2.imshow('edge',merged)\n",
        "cv2.waitKey(0)\n",
        "cv2.destroyAllWindows()"
      ],
      "metadata": {
        "id": "DilIvVZJ8ArN"
      },
      "execution_count": null,
      "outputs": []
    },
    {
      "cell_type": "code",
      "source": [
        "#소벨\n",
        "import cv2\n",
        "import numpy as np\n",
        "\n",
        "img=cv2.imread('img_latte.jpg')\n",
        "\n",
        "gx_k=np.array([[-1,0,1],[-2,0,2],[-1,0,1]])\n",
        "gy_k=np.array([[-1,-2,-1],[0,0,0],[1,2,1]])\n",
        "\n",
        "edge_gx=cv2.filter2D(img,-1,gx_k)\n",
        "edge_gy=cv2.filter2D(img,-1,gy_k)\n",
        "\n",
        "sobelx=cv2.Sobel(img,-1,1,0,ksize=3)\n",
        "sobely=cv2.Sobel(img,-1,0,1,ksize=3)\n",
        "\n",
        "merged1=np.hstack((img,edge_gx,edge_gy,edge_gy+edge_gy))\n",
        "merged2=np.hstack((img,sobelx,sobely,sobelx+sobely))\n",
        "merged=np.vstack((merged1,merged2))\n",
        "cv2.imshow('merged',merged)\n",
        "cv2.waitKey(0)\n",
        "cv2.destroyAllWindows()"
      ],
      "metadata": {
        "id": "aX7gMPgoABR8"
      },
      "execution_count": null,
      "outputs": []
    },
    {
      "cell_type": "code",
      "source": [
        "#scharr\n",
        "import cv2\n",
        "import numpy as np\n",
        "\n",
        "img=cv2.imread('img_latte.jpg')\n",
        "gx_k=np.array([[-3,0,3],[-10,0,10],[-3,0,3]])\n",
        "gy_k=np.array([[-3,-10,-3],[0,0,0],[3,10,3]])\n",
        "\n",
        "edge_gx=cv2.filter2D(img,-1,gx_k)\n",
        "edge_gy=cv2.filter2D(img,-1,gy_k)\n",
        "\n",
        "sharrx=cv2.Scharr(img,-1,1,0)\n",
        "sharry=cv2.Scharr(img,-1,0,1)\n",
        "\n",
        "merged1=np.hstack((img,edge_gx,edge_gy))\n",
        "merged2=np.hstack((img,sharrx,sharry))\n",
        "merged=np.vstack((merged1,merged2))\n",
        "\n",
        "cv2.imshow('merged',merged)\n",
        "cv2.waitKey(0)\n",
        "cv2.destroyAllWindows()\n"
      ],
      "metadata": {
        "id": "Kn23Iz_dBexH"
      },
      "execution_count": null,
      "outputs": []
    },
    {
      "cell_type": "code",
      "source": [
        "#라플라시안\n",
        "import cv2\n",
        "import numpy as np\n",
        "\n",
        "img=cv2.imread('img_latte.jpg')\n",
        "\n",
        "laplacian=cv2.Laplacian(img,-1)\n",
        "\n",
        "merged=np.hstack((img,laplacian))\n",
        "cv2.imshow('merged',merged)"
      ],
      "metadata": {
        "id": "QKeODWFACUUL"
      },
      "execution_count": null,
      "outputs": []
    },
    {
      "cell_type": "code",
      "source": [
        "#캐니 엣지 검출\n",
        "import cv2\n",
        "import numpy as np\n",
        "img=cv2.imread('img_latte.jpg')\n",
        "\n",
        "edges=cv2.Canny(img,100,200)\n",
        "cv2.imshow('img',img)\n",
        "cv2.imshow('edges',edges)\n",
        "cv2.waitKey(0)\n",
        "cv2.destroyAllWindows()"
      ],
      "metadata": {
        "id": "zt0ykMqyD5wX"
      },
      "execution_count": null,
      "outputs": []
    },
    {
      "cell_type": "code",
      "source": [
        "#erode\n",
        "import cv2\n",
        "import numpy as np\n",
        "\n",
        "img=cv2.imread('img_latte.jpg')\n",
        "\n",
        "k=cv2.getStructuringElement(cv2.MORPH_RECT,(3,3))\n",
        "erosion=cv2.erode(img,k)\n",
        "\n",
        "merged=np.hstack((img,erosion))\n",
        "cv2.imshow('merged',merged)\n",
        "cv2.waitKey(0)\n",
        "cv2.destroyAllWindows()\n"
      ],
      "metadata": {
        "id": "uMLbtr3PDL3U"
      },
      "execution_count": null,
      "outputs": []
    },
    {
      "cell_type": "code",
      "source": [
        "#팽창\n",
        "import cv2\n",
        "import numpy as np\n",
        "\n",
        "img=cv2.imread('img_latte.jpg')\n",
        "\n",
        "k=cv2.getStructuringElement(cv2.MORPH_RECT,(3,3))\n",
        "dst=cv2.dilate(img,k)\n",
        "\n",
        "merged=np.hstack((img,dst))\n",
        "cv2.imshow('merged',merged)\n",
        "cv2.waitKey(0)\n",
        "cv2.destroyAllWindows()"
      ],
      "metadata": {
        "id": "leLVta82JsVa"
      },
      "execution_count": null,
      "outputs": []
    },
    {
      "cell_type": "code",
      "source": [
        "#열림닫힘\n",
        "\n",
        "import cv2\n",
        "import numpy as np\n",
        "\n",
        "img1=cv2.imread('img_latte.jpg',cv2.IMREAD_GRAYSCALE)\n",
        "img2=cv2.imread('img_latte.jpg',cv2.IMREAD_GRAYSCALE)\n",
        "\n",
        "k=cv2.getStructuringElement(cv2.MORPH_RECT,(5,5))\n",
        "opening=cv2.morphologyEx(img1,cv2.MORPH_OPEN,k)\n",
        "closing=cv2.morphologyEx(img2,cv2.MORPH_CLOSE,k)\n",
        "\n",
        "merged1=np.hstack((img1,opening))\n",
        "merged2=np.hstack((img1,closing))\n",
        "merged=np.vstack((merged1,merged2))\n",
        "cv2.imshow('merged',merged)\n",
        "cv2.waitKey(0)\n",
        "cv2.destroyAllWindows()"
      ],
      "metadata": {
        "id": "a3QcSvZzMCkZ"
      },
      "execution_count": null,
      "outputs": []
    },
    {
      "cell_type": "code",
      "source": [
        "#gradient\n",
        "import cv2\n",
        "import numpy as np\n",
        "\n",
        "img=cv2.imread('img_latte.jpg')\n",
        "\n",
        "k=cv2.getStructuringElement(cv2.MORPH_RECT,(3,3))\n",
        "\n",
        "gradient=cv2.morphologyEx(img,cv2.MORPH_GRADIENT,k)\n",
        "\n",
        "merged=np.hstack((img,gradient))\n",
        "cv2.imshow('merged',merged)\n",
        "cv2.waitKey(0)\n",
        "cv2.destroyAllWindows()"
      ],
      "metadata": {
        "id": "J1_ChVA0Mse9"
      },
      "execution_count": null,
      "outputs": []
    },
    {
      "cell_type": "code",
      "source": [
        "#tophat, blackhat\n",
        "import cv2\n",
        "import numpy as np\n",
        "\n",
        "img=cv2.imread('img_latte.jpg')\n",
        "\n",
        "k=cv2.getStructuringElement(cv2.MORPH_RECT,(9,9))\n",
        "tophat=cv2.morphologyEx(img,cv2.MORPH_TOPHAT,k)\n",
        "blackhat=cv2.morphologyEx(img,cv2.MORPH_BLACKHAT,k)\n",
        "\n",
        "merged=np.hstack((img,tophat,blackhat))\n",
        "cv2.imshow('merged',merged)\n",
        "cv2.waitKey(0)\n",
        "cv2.destroyAllWindows()"
      ],
      "metadata": {
        "id": "tLeWBrYkM2O5"
      },
      "execution_count": null,
      "outputs": []
    },
    {
      "cell_type": "code",
      "source": [
        "import cv2\n",
        "\n",
        "img=cv2.imread('img_latte.jpg')\n",
        "\n",
        "smaller=cv2.pyrDown(img) #img*1/4\n",
        "bigger=cv2.pyrUp(img) #img*4\n",
        "\n",
        "cv2.imshow('img',img)\n",
        "cv2.imshow('down',smaller)\n",
        "cv2.imshow('up',bigger)\n",
        "cv2.waitKey(0)\n",
        "cv2.destroyAllWindows()"
      ],
      "metadata": {
        "id": "mOPpcXTCO6RK"
      },
      "execution_count": null,
      "outputs": []
    },
    {
      "cell_type": "code",
      "source": [
        "import cv2\n",
        "import numpy as np\n",
        "\n",
        "img=cv2.imread('img_latte.jpg')\n",
        "\n",
        "smaller=cv2.pyrDown(img)\n",
        "bigger=cv2.pyrUp(smaller)\n",
        "\n",
        "lap=cv2.subtract(img,bigger)\n",
        "restored=bigger+lap\n",
        "\n",
        "merged=np.hstack((img,bigger,lap,restored))\n",
        "cv2.imshow('merged',merged)\n",
        "cv2.waitKey(0)\n",
        "cv2.destroyAllWindows()"
      ],
      "metadata": {
        "id": "AZ-ptppzP1zw"
      },
      "execution_count": null,
      "outputs": []
    },
    {
      "cell_type": "code",
      "source": [
        "#블러링으로 모자이크 처리 풀이 결과\n",
        "import cv2\n",
        "\n",
        "ksize=30\n",
        "win_title='mosaic'\n",
        "img=cv2.imread('img_latte.png)\n",
        "while True:\n",
        "    x,y,w,h=cv2.selectROI(win_title,img,False)\n",
        "    if w>0 and h>0:\n",
        "        roi=img[y:y+h,x:x+w]\n",
        "        roi=cv2.blur(roi,(ksize,ksize))\n",
        "        img[y:y+h,x:x+w]=roi\n",
        "        cv2.imshow(win_title,img)\n",
        "    else:\n",
        "        break\n",
        "\n",
        "cv2.waitKey(0)\n",
        "cv2.destroyAllWindows()"
      ],
      "metadata": {
        "id": "-jtu9I3vXaHZ"
      },
      "execution_count": null,
      "outputs": []
    },
    {
      "cell_type": "code",
      "source": [
        "#스케치 효과 카메라 풀이\n",
        "import cv2\n",
        "import numpy as np\n",
        "\n",
        "win_title='sketch'\n",
        "img=cv2.imread('img_latte.png')\n",
        "img_gray=cv2.cvtColor(img,cv2.COLOR_BGR2GRAY)\n",
        "img_gray=GaussianBlur(img_gray,(9,9),0)\n",
        "edges=cv2.Laplacian(img_gray,-1,None,5)\n",
        "_,sketch=cv2.threshold(edges,70,255,cv2.THRESH_BINARY_INV)\n",
        "\n",
        "kernel=cv2.getStructuringElement(cv2.MORPH_CROSS,(3,3))\n",
        "sketch=cv2.erode(sketch,kernel)\n",
        "sketch=cv2.medianBlur(sketch,5)\n",
        "img_sketch=cv2.cvtColor(sketch,cv2.COLOR_GRAY2BGR)\n",
        "\n",
        "img_paint=cv2.blur(img,(10,10))\n",
        "img_paint=cv2.bitwise_and(img_paint,img_sketch)\n",
        "\n",
        "cv2.imshow(img_paint)\n",
        "cv2.waitKey(0)\n",
        "cv2.destroyAllWindows()"
      ],
      "metadata": {
        "id": "rVnvFrw-dD_W"
      },
      "execution_count": null,
      "outputs": []
    }
  ]
}