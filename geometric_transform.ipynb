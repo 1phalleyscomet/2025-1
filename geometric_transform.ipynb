{
  "nbformat": 4,
  "nbformat_minor": 0,
  "metadata": {
    "colab": {
      "provenance": [],
      "authorship_tag": "ABX9TyM7PfopgJqRHZyRtUjrL2bb",
      "include_colab_link": true
    },
    "kernelspec": {
      "name": "python3",
      "display_name": "Python 3"
    },
    "language_info": {
      "name": "python"
    }
  },
  "cells": [
    {
      "cell_type": "markdown",
      "metadata": {
        "id": "view-in-github",
        "colab_type": "text"
      },
      "source": [
        "<a href=\"https://colab.research.google.com/github/1phalleyscomet/2025-1/blob/main/geometric_transform.ipynb\" target=\"_parent\"><img src=\"https://colab.research.google.com/assets/colab-badge.svg\" alt=\"Open In Colab\"/></a>"
      ]
    },
    {
      "cell_type": "code",
      "execution_count": null,
      "metadata": {
        "id": "9-FHqkIoPldf"
      },
      "outputs": [],
      "source": [
        "import cv2\n",
        "import numpy as np\n",
        "\n",
        "img=cv2.imread('../img/fish.jpg')\n",
        "\n",
        "rows,cols=img.shape[0:2]\n",
        "\n",
        "dx,dy=100,50\n",
        "#변환행렬 생성\n",
        "mtrx=np.float32([1,0,dx],[0,1,dy])\n",
        "#단순 이동\n",
        "dst=cv2.warpAffine(img,mtrx,(cols+dx,rows+dy))\n",
        "#탈락된 외곽 픽셀 보정\n",
        "dst2=cv2.warpAffine(img,mtrx,(cols+dx,rows+dy),None,cv2.INTER_LINEAR,cv2.BORDER_REFLECT)\n",
        "dst3=cv2.warpAffine(img,mtrx,(cols+dx,rows+dy),None,cv2.INTER_LINEAR,cv2.BORDER_CONSTANT,(255,0,0)\n",
        "\n",
        "\n",
        "cv2.imshow('original',img)\n",
        "cv2.imshow('trans',dst)\n",
        "cv2.imshow('BORDER_REFLECT',dst2)\n",
        "cv2.imshow('BORDER_CONSTANT',dst3)\n",
        "cv2.waitKey(0)\n",
        "cv2.destroyAllWindows()"
      ]
    },
    {
      "cell_type": "code",
      "source": [
        "#행렬을 이용한 확대와 축소\n",
        "import cv2\n",
        "import numpy as np\n",
        "\n",
        "img=cv2.imread('../img/fish.jpg')\n",
        "height,width=img.shape[:2]\n",
        "\n",
        "m_small=np.float32([0.5,0,0],[0,0.5,0])\n",
        "m_big=np.float32([2,0,0],[0,2,0])\n",
        "\n",
        "#보간법 적용X\n",
        "dst1l=cv2.warpAffine(img,m_small,(int(width*0.5),int(height*0.5)))\n",
        "ds2=cv2.warpAffine(img,m_big,(int(width*2),int(height*2)))\n",
        "\n",
        "#보간법 적용O\n",
        "dst3=cv2.warpAffine(img,m_small,(int(width*0.5),int(height*0.5)),None,cv2.INTER_AREA)\n",
        "dst4=cv2.warpAffine(img,m_big,(int(width*2),int(height*2)),None,cv2.INTER_CUBIC)\n",
        "\n",
        "cv2.imshow('original',img)\n",
        "cv2.imshow('small',dst1)\n",
        "cv2.imshow('big',dst2)\n",
        "cv2.imshow('small inter area',dst3)\n",
        "cv2.imshow('big inter cubic',dst4)\n",
        "cv2.waitKey(0)\n",
        "cv2.destroyAllWindows()"
      ],
      "metadata": {
        "id": "Bzfin6P7AjAY"
      },
      "execution_count": null,
      "outputs": []
    },
    {
      "cell_type": "code",
      "source": [
        "import cv2\n",
        "import numpy as np\n",
        "\n",
        "img=cv2.imread('../img/fish.jpg')\n",
        "height,width=img.shape[:2]\n",
        "\n",
        "#크기 지정 축소\n",
        "dst1=cv2.resize(img, (int(width*0.5),int(height*0.5)), interpolation=cv2.INTER_AREA)\n",
        "#배율 지정 확대\n",
        "dst2=cv2.resize(img, None,None,2,2,cv2.INTER_CUBIC)\n",
        "\n",
        "cv2.imshow('original',img)\n",
        "cv2.imshow('small',dst1)\n",
        "cv2.imshow('big',dst2)\n",
        "cv2.waitKey(0)\n",
        "cv2.destroyAllWindows()"
      ],
      "metadata": {
        "id": "uR_OPR-RCsXf"
      },
      "execution_count": null,
      "outputs": []
    },
    {
      "cell_type": "code",
      "source": [
        "#변환행렬로 회전\n",
        "import cv2\n",
        "import numpy as np\n",
        "\n",
        "img=cv2.imread('../img/fish.jpg')\n",
        "height,width=img.shape[:2]\n",
        "\n",
        "d45=45.0*np.pi/180\n",
        "d90=90.0*np.pi/180\n",
        "\n",
        "#회전을 위한 변환행렬 생성\n",
        "m45=np.float32([[np.cos(d45),-1*np.sin(d45),row//2],\n",
        "                [np.sin(d45),np.cos(d45),-1*cols//4]])\n",
        "m90=np.float32([[np.cos(d90),-1*np.sin(d90),rows],np.sin(d90),np.cos(d90),0])\n",
        "\n",
        "#회전 변환행렬 적용\n",
        "r45=cv2.warpAffine(img,m45,(cols,rows))\n",
        "r90=cv2.warpAffine(img,m45,(rows,cols))\n",
        "\n",
        "cv2.imshow('original',img)\n",
        "cv2.imshow('r45',r45)\n",
        "cv2.imshow('r90',r90)\n",
        "cv2.waitkey(0)\n",
        "cv2.destroyAllWindows()"
      ],
      "metadata": {
        "id": "zN7o2G3pFsBq"
      },
      "execution_count": null,
      "outputs": []
    },
    {
      "cell_type": "code",
      "source": [
        "import cv2\n",
        "\n",
        "img=cv2.imread('../img/fish.jpg')\n",
        "rows,cols=img.shape[:2]\n",
        "\n",
        "m45=cv2.getRotationMatrix2D((cols/2,rows/2),45,0.5)\n",
        "m90=cv2.getRotationMatrix2D((cols/2,rows/2),90,1.5)\n",
        "\n",
        "img45=cv2.warpAffine(img,m45,(cols,rows))\n",
        "img90=cv2.warpAffine(img,m90,(cols,rows))\n",
        "\n",
        "cv2.imshow('original',img)\n",
        "cv2.imshow('45',img45)\n",
        "cv2.imshow('90',img90)\n",
        "cv2.waitkey(0)\n",
        "cv2.destroyAllWindows()"
      ],
      "metadata": {
        "id": "9135nhSSHYDr"
      },
      "execution_count": null,
      "outputs": []
    },
    {
      "cell_type": "code",
      "source": [
        "#어핀 변환\n",
        "import cv2\n",
        "import numpy as np\n",
        "from matplotlib import pyplot as plt\n",
        "\n",
        "file_name='../img/fish.jpg'\n",
        "img=cv2.imread(file_name)\n",
        "rows,cols=img.shape[:2]\n",
        "\n",
        "pts1=np.float32([[100,50],[200,50],[100,200]])\n",
        "pts2=np.float32([[80,70],[210,60],[250,120]])\n",
        "\n",
        "cv2.cicle(img,(100,50),5,(255,0),-1)\n",
        "cv2.cicle(img,(200,50),5,(0,255,0),-1)\n",
        "cv2.cicle(img,(100,200),5,(0,0,255),-1)\n",
        "\n",
        "mtrx=cv2.getAffineTransform(pts1,pts2)\n",
        "dst=cv2.warpAffine(img,mtrx,(int(cols*1.5),rows))\n",
        "\n",
        "cv2.imprint('original',img)\n",
        "cv2.imprint('affine',dst)\n",
        "cv2.waitkey(0)\n",
        "cv2.destroyAllWindows()"
      ],
      "metadata": {
        "id": "gA70xLMCI87v"
      },
      "execution_count": null,
      "outputs": []
    },
    {
      "cell_type": "code",
      "source": [
        "import cv2\n",
        "import numpy as np\n",
        "\n",
        "file_name='../img/fish.jpg'\n",
        "img=cv2.imread(file_name)\n",
        "rows,cols=img.shape[:2]\n",
        "\n",
        "pts1=np.float32([0,0],[0,rows],[cols,0],[cols,rows])\n",
        "pts2=np.float32([100,50],[10,rows-50],[cols-100,50],[cols-10,rows-50])\n",
        "\n",
        "cv2.circle(img,(0,0),10,(255,0,0),-1)\n",
        "cv2.circle(img,(0,rows),10,(0,255,0),-1)\n",
        "cv2.cicle(img,(cols,0),10,(0,0,255),-1)\n",
        "cv2.cicle(img,(cols,rows),10,(0,255,255),-1)\n",
        "\n",
        "mtrx=cv2.getPerspectiveTransform(pts1,pts2)\n",
        "dst=cv2.warpPerspective(img,mtrx,(cols,rows))\n",
        "\n",
        "cv2.imshow('original',img)\n",
        "cv2.imshow('perspective',dst)\n",
        "cv2.waitkey(0)\n",
        "cv2.destroyAllWindows()"
      ],
      "metadata": {
        "id": "6bbTPEvqLGPZ"
      },
      "execution_count": null,
      "outputs": []
    },
    {
      "cell_type": "code",
      "source": [
        "#마우스와 원근 변환으로 문서 스캔 효과 내기\n",
        "import cv2\n",
        "import numpy as np\n",
        "\n",
        "win_name='scanning'\n",
        "img=cv2.imread('../img/paper.jpg')\n",
        "rows,cols=img.shape[:2]\n",
        "draw=img.copy()\n",
        "pts_cnt=0\n",
        "pts=np.zeros((4,2),dtype=np.float32)\n",
        "\n",
        "def onMouse(event,x,y,flags,param):\n",
        "    global pts_cnt\n",
        "    if event==cv2.EVENT_LBUTTONDOWN:\n",
        "        cv2.circle(draw,(x,y),10,(0,255,0)-1)\n",
        "        cv2.imshow(win_name,draw)\n",
        "\n",
        "        pts[pts_cnt]=[x,y]\n",
        "        pts_cnt+=1\n",
        "        if pts_cnt==4:\n",
        "            sm=pts.sum(axis=1)\n",
        "            diff=np.diff(pts,axis=1)\n",
        "\n",
        "            topLeft=pts[np.argmin(sm)]\n",
        "            bottomRight=pts[np.argmax(sm)]\n",
        "            topRight=pts[np.argmin(diff)]\n",
        "            bottomLeft=pts[np.argmax(diff)]\n",
        "\n",
        "            pts1=np.float32([topLeft,topRight,bottomRight,bottomLeft])\n",
        "            w1=abs(bottomRight[0]-bottomLeft[0])\n",
        "            w2=abs(topRight[0]-topLeft[0])\n",
        "            h1=abs(topRight[1]-bottomLeft[1])\n",
        "            h2=abs(bottomRight[1]-bottomLeft[1])\n",
        "            width=max([w1,w2])\n",
        "            height=max([h1,h2])\n",
        "\n",
        "            pts2=np.float32([[0,0],[width-1,0],[width-1,height-1],[0,height-1]])\n",
        "\n",
        "            mtrx=cv2.getPerspectiveTransform(pts1,pts2)\n",
        "            result=cv2.warpPerspective(img,mtrx,(width,height))\n",
        "            cv2.imshow('scanned',result)\n",
        "\n",
        "cv2.imshow(win_name,img)\n",
        "cv2.setMouseCallback(win_name,onMouse)\n",
        "cv2.waitKey(0)\n",
        "cv2.destroyAllWindows()"
      ],
      "metadata": {
        "id": "U1RaozspO5W4"
      },
      "execution_count": null,
      "outputs": []
    },
    {
      "cell_type": "code",
      "source": [
        "#삼각형 어핀 변환\n",
        "import cv2\n",
        "import numpy as np\n",
        "\n",
        "img=cv2.imread('img_hodu1.jpeg')\n",
        "img2=img.copy()\n",
        "draw=img.copy()\n",
        "\n",
        "#1,2\n",
        "pts1=np.float32([[118,14],[85,202],[294,216]])\n",
        "pts2=np.float32([[128,40],[85,307],[306,167]])\n",
        "\n",
        "#3\n",
        "x1,y1,w1,h1=cv2.boundingRect(pts1)\n",
        "x2,y2,w2,h2=cv2.boundingRect(pts2)\n",
        "\n",
        "#4\n",
        "roi1=img[y1:y1+h1,x1:x1+w1]\n",
        "roi2=img[y2:y2+h2,x2:x2+w2]\n",
        "\n",
        "#5\n",
        "offset1=np.zeros((3,2),dtype=np.float32)\n",
        "offset2=np.zeros((3,2),dtype=np.float32)\n",
        "for i in range(3):\n",
        "    offset1[i][0],offset1[i][1]=pts[i][0]-x1,=pts[i][1]-y1\n",
        "    offset2[i][0],offset2[i][1]=pts[i][0]-x2,=pts[i][1]-y2\n",
        "mtrx=cv2.getAffineTransform(offset1,offset2)\n",
        "warped=cv2.warpAffine(roi1,mtrx,(w2,h2),None,cv2.INTER_LINEAR,cv2.BORDER_REFLECT_101)\n",
        "\n",
        "#6\n",
        "mask=np.zeros((h2,w2),dtype=np.uint8)\n",
        "cv2.fillConvexPoly(mask,np.int32(offset2),(255))\n",
        "\n",
        "warped_masked=cv2.bitwise_and(warped,warped,mask=mask)\n",
        "roi2_masked=cv2.bitwise_and(roi2,roi2,mask=cv2.bitwise_not(mask))\n",
        "roi2_masked=roi2_masked+warped_masked\n",
        "\n",
        "img2[y2:y2+h2,x2:x2+w2]=roi2_masked\n",
        "\n",
        "#7\n",
        "cv2.rectangle(draw,(x1,y1),(x1+w1,y1+h1),(0,255,0),1)\n",
        "cv2.polylines(draw,[pts1.astype(np.int32)],True,(255,0,0),2)\n",
        "cv2.rectangle(draw,(x2,y2),(x2+w2,y2+h2),(0,255,0),1)\n",
        "cv2.imshow('original',draw)\n",
        "cv2.imshow('warped triangle',img2)\n",
        "cv2.waitkey(0)\n",
        "cv2.destroyAllWindows()"
      ],
      "metadata": {
        "id": "2FnX40bAO964"
      },
      "execution_count": null,
      "outputs": []
    }
  ]
}