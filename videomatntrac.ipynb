{
  "nbformat": 4,
  "nbformat_minor": 0,
  "metadata": {
    "colab": {
      "provenance": [],
      "authorship_tag": "ABX9TyPFHteCL+N+G03P9wYND8K/",
      "include_colab_link": true
    },
    "kernelspec": {
      "name": "python3",
      "display_name": "Python 3"
    },
    "language_info": {
      "name": "python"
    }
  },
  "cells": [
    {
      "cell_type": "markdown",
      "metadata": {
        "id": "view-in-github",
        "colab_type": "text"
      },
      "source": [
        "<a href=\"https://colab.research.google.com/github/1phalleyscomet/2025-1/blob/main/videomatntrac.ipynb\" target=\"_parent\"><img src=\"https://colab.research.google.com/assets/colab-badge.svg\" alt=\"Open In Colab\"/></a>"
      ]
    },
    {
      "cell_type": "code",
      "execution_count": null,
      "metadata": {
        "id": "taatG5dMByQu"
      },
      "outputs": [],
      "source": [
        "#평균 해시 변환\n",
        "import cv2\n",
        "\n",
        "img=cv2.imread('img_.png')\n",
        "gray=cv2.cvtColor(img,cv2.COLOR_BGR2GRAY)\n",
        "gray=cv2.resize(gray,(16,16))\n",
        "avg=gray.mean()\n",
        "bin=1*(gray>avg)\n",
        "print(bin)\n",
        "dhash=[]\n",
        "for row in bin.tolist():\n",
        "    s=''.join([str(i) for i in row])\n",
        "    dhash.append('%02x'%(int(s,2)))\n",
        "dhash=''.join(dhash)\n",
        "print(dhash)\n",
        "\n",
        "cv2.imshow('img',img)\n",
        "cv2.waitKey(0)\n",
        "cv2.destroyAllWindows()"
      ]
    },
    {
      "cell_type": "code",
      "source": [
        "#템플릿매칭으로 객체위치 검출\n",
        "import cv2\n",
        "import numpy as np\n",
        "\n",
        "img=cv2.imread('img_.png')\n",
        "template=cv2.imread('img_another.png')\n",
        "th,tw=template.shape[:2]\n",
        "cv2.imshow('template',template)\n",
        "\n",
        "methods=['cv2.TM_CCOEFF_NORMED','cv2.TM_CCORR_NORMED','cv2.TM_SQDIFF_NORMED']\n",
        "for i, method_name in enumerate(methods):\n",
        "    img_draw=img.copy()\n",
        "    method=eval(method_name)\n",
        "    result=cv2.matchTemplate(img,template,method)\n",
        "    min_val,max_val,min_loc,max_loc=cv2.minMaxLoc(result)\n",
        "    print(method_name,min_val,max_val,min_loc,max_loc)\n",
        "\n",
        "    if method in [cv2.TM_SQDIFF_NORMED,cv2.TM_SQDIFF]:\n",
        "        top_left=min_loc\n",
        "        match_val=min_val\n",
        "    else:\n",
        "        top_left=max_loc\n",
        "        match_val=max_val\n",
        "    bottom_right=(top_left[0]+tw,top_left[1]+th)\n",
        "    cv2.rectangle(img_draw,top_left,bottom_right,(0,0,255),2)\n",
        "    cv2.putText(img_draw,str(match_val),top_left,cv2.FONT_HERSHEY_PLAIN,2,(0,255,0),1,cv2.LINE_AA)\n",
        "    cv2.imshow(method_name,img_draw)\n",
        "cv2.waitKey(0)\n",
        "cv2.destroyAllWindows()"
      ],
      "metadata": {
        "id": "Dir3J7CiIWbk"
      },
      "execution_count": null,
      "outputs": []
    },
    {
      "cell_type": "code",
      "source": [
        "#해리스 코너 검출\n",
        "import cv2\n",
        "import numpy as np\n",
        "\n",
        "img=cv2.imread('img_.png')\n",
        "gray=cv2.cvtColor(img,cv2.COLOR_BGR2GRAY)\n",
        "\n",
        "corner=cv2.cornerHarris(gray,2,3,0.04)\n",
        "coord=np.where(corner>0.01*corner.max())\n",
        "coord=np.stack((coord[1],coord[0]),axis=-1)\n",
        "\n",
        "for x,y in coord:\n",
        "    cv2.circle(img,(x,y),3,(0,0,255),1,cv2.LINE_AA)\n",
        "\n",
        "corner_norm=cv2.normalize(corner,None,0,255,cv2.NORM_MINMAX,cv2.CV_8U)\n",
        "corner_norm=cv2.cvtColor(corner_norm,cv2.COLOR_GRAY2BGR)\n",
        "merged=np.hstack((img,corner_norm,img))\n",
        "cv2.imshow('merged',merged)\n",
        "cv2.waitKey(0)\n",
        "cv2.destroyAllWindows()"
      ],
      "metadata": {
        "id": "D7T1uPgNNacl"
      },
      "execution_count": null,
      "outputs": []
    },
    {
      "cell_type": "code",
      "source": [
        "#시- 토마시 코너 검출\n",
        "import cv2\n",
        "import numpy as np\n",
        "\n",
        "img=cv2.imread('img_.png')\n",
        "gray=cv2.cvtColor(img,cv2.COLOR_BGR2GRAY)\n",
        "corners=cv2.goodFeaturesToTrack(gray,80,0.01,10)\n",
        "corners=np.intt32(corners)\n",
        "\n",
        "for corner in corners:\n",
        "    x,y=corner[0]\n",
        "    cv2.circle(img,(x,y),3,(0,0,255),1,cv2.LINE_AA)\n",
        "\n",
        "cv2.imshow('img',img)\n",
        "cv2.waitKey(0)\n",
        "cv2.destroyAllWindows()"
      ],
      "metadata": {
        "id": "pJ3PrpMnO7KY"
      },
      "execution_count": null,
      "outputs": []
    },
    {
      "cell_type": "code",
      "source": [
        "#GFTTDetector로 키포인트 검출\n",
        "import numpy as np\n",
        "\n",
        "img=cv2.imread('img_.png')\n",
        "gray=cv2.cvtColor(img,cv2.COLOR_BGR2GRAY)\n",
        "gftt=cv2.GFTTDetector_create()\n",
        "keypoints=gftt.detect(gray,None)\n",
        "img_draw=cv2.drawKeypoints(img,keypoints,NoneS)\n",
        "cv2.imshow('img',img_draw)\n",
        "cv2.waitKey(0)\n",
        "cv2.destroyAllWindows()"
      ],
      "metadata": {
        "id": "9DIw1OT6RbhL"
      },
      "execution_count": null,
      "outputs": []
    },
    {
      "cell_type": "code",
      "source": [
        "#FAST로 키포인트 검출\n",
        "import numpy as np\n",
        "\n",
        "img=cv2.imread('img_.png')\n",
        "gray=cv2.cvtColor(img,cv2.COLOR_BGR2GRAY)\n",
        "\n",
        "fast=cv2.FastFeatureDetector_create(50)\n",
        "keypoints=fast.detect(gray,None)\n",
        "img=cv2.drawKeypoints(img,keypoints,None)\n",
        "cv2.imshow('img',img)\n",
        "cv2.waitKey(0)\n",
        "cv2.destroyAllWindows"
      ],
      "metadata": {
        "id": "TaasayXUSHR8"
      },
      "execution_count": null,
      "outputs": []
    },
    {
      "cell_type": "code",
      "source": [
        "#SimpleBlodDetector검출기\n",
        "import numpy as np\n",
        "\n",
        "img=cv2.imread('img_.png')\n",
        "gray=cv2.cvtColor(img,cv2.COLOR_BGR2GRAY)\n",
        "detector=cv2.SimpleBlodDetector_create()\n",
        "keypoints=detector.detect(gray)\n",
        "img=cv2.drawKeypoints(img,keypoints,None,(0,0,255),flags=cv2.DRAW_MATCHES_FLAGS_DRAW_RICH_KEYPOINTS)\n",
        "cv2.imshow('img',img)\n",
        "cv2.waitKey(0)\n",
        "cv2.destroyAllWindows()"
      ],
      "metadata": {
        "id": "oycA-h7BTI1-"
      },
      "execution_count": null,
      "outputs": []
    },
    {
      "cell_type": "code",
      "source": [
        "#필터 옵션으로 생성한\\SimpleBlodDetector검출기\n",
        "import cv2\n",
        "import numpy as np\n",
        "\n",
        "img=cv2.imread('img_.png')\n",
        "gray=cv2.cvtColor(img,cv2.COLOR_BGR2GRAY)\n",
        "params=cv2.SimpleBlodDetector_Param()\n",
        "\n",
        "params.minThreshold=10\n",
        "params.maxThreshold=240\n",
        "params.thresholdStep=5\n",
        "params.filterByArea=True\n",
        "params.minArea=200\n",
        "\n",
        "params.filterByColor=False\n",
        "params.filterByConvexity=False\n",
        "params.filterByInertia=False\n",
        "params.filterByCircularity=False\n",
        "\n",
        "detector=cv2.SimpleBlodDetector_create(params)\n",
        "keypoints=detect.detect(gray)\n",
        "img_draw=cv2.drawKeypoints(img,keypoints,None,None,flags=cv2.DRAW_MATCHES_FLAGS_DRAW_RICH_KEYPOINTS)\n",
        "cv2.imshow('img',img_draw)\n",
        "cv2.waitKey(0)\n",
        "cv2.destroyAllWindows()"
      ],
      "metadata": {
        "id": "Mo2jyOleTe4L"
      },
      "execution_count": null,
      "outputs": []
    }
  ]
}