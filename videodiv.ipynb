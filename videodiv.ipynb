{
  "nbformat": 4,
  "nbformat_minor": 0,
  "metadata": {
    "colab": {
      "provenance": [],
      "authorship_tag": "ABX9TyNm/W3MSBd82uBPKYyZKrWa",
      "include_colab_link": true
    },
    "kernelspec": {
      "name": "python3",
      "display_name": "Python 3"
    },
    "language_info": {
      "name": "python"
    }
  },
  "cells": [
    {
      "cell_type": "markdown",
      "metadata": {
        "id": "view-in-github",
        "colab_type": "text"
      },
      "source": [
        "<a href=\"https://colab.research.google.com/github/1phalleyscomet/2025-1/blob/main/videodiv.ipynb\" target=\"_parent\"><img src=\"https://colab.research.google.com/assets/colab-badge.svg\" alt=\"Open In Colab\"/></a>"
      ]
    },
    {
      "cell_type": "code",
      "execution_count": null,
      "metadata": {
        "id": "HaEo8tTfHefY"
      },
      "outputs": [],
      "source": [
        "#컨투어 찾기와 그리기\n",
        "import cv2\n",
        "import numpy as np\n",
        "\n",
        "img=cv2.imread('img_.png')\n",
        "img2=img.copy()\n",
        "\n",
        "imgray=cv2.cvtColor(img,cv2.COLOR_BGR2GRAY)\n",
        "ret,imthres=cv2.threshold(imgray,127,255,cv2.THRESH_BINARY_INV)\n",
        "im2,contour,hierarchy=cv2.findContours(imthres,cv2.RETR_EXTERNAL,cv2.CHAIN_APPROX_NONE)\n",
        "im2,contour2,hierarchy=cv2.findContours(imthres,cv2.RETR_EXTERNAL,cv2.CHAIN_APPROX_SIMPLE)\n",
        "\n",
        "print(\"도형개수:%d(%d)\"%(len(contour),len(contour2)))\n",
        "\n",
        "cv2.drawContours(img,contour,-1,(0,0,255),4)\n",
        "cv2.drawContours(img2,contour2,-1,(0,0,255),4)\n",
        "\n",
        "for i in contour:\n",
        "    for j in i:\n",
        "        cv2.circle(img,tuple(j[0]),1,(255,0,0),-1)\n",
        "for i in contour2:\n",
        "    for j in i:\n",
        "        cv2.circle(img2,tuple(j[0]),1,(255,0,0),-1)\n",
        "cv2.imshow('img',img)\n",
        "cv2.imshow('img2',img2)\n",
        "cv2.waitKey(0)\n",
        "cv2.destroyAllWindows()"
      ]
    },
    {
      "cell_type": "code",
      "source": [
        "#컨투어 계층 트리\n",
        "import cv2\n",
        "import numpy as np\n",
        "\n",
        "img=cv2.imread('img_.png')\n",
        "img2=img.copy()\n",
        "\n",
        "imgray=cv2.cvtColor(img,cv2.COLOR_BGR2GRAY)\n",
        "ret,imthres=cv2.threshold(imgray,127,255,cv2.THRESH_BINARY_INV)\n",
        "im2,contour,hierarchy=cv2.findContours(imthres,cv2.RETR_EXTERNAL,cv2.CHAIN_APPROX_NONE)\n",
        "print(len(contour),hierarchy)\n",
        "\n",
        "im2,contour2,hierarchy=cv2.findContours(imthres,cv2.RETR_TREE,cv2.CHAIN_APPROX_SIMPLE)\n",
        "print(len(contour2),hierarchy)\n",
        "\n",
        "cv2.drawContours(img,contour,-1,(0,0,255),3)\n",
        "\n",
        "for idx,cont in enumerate(contour2):\n",
        "    color=[int(i) for i in np.random.randint(0,255,3)]\n",
        "    cv2.drawContours(img2,contour2,idx,color,3)\n",
        "    cv2.putText(img2,str(idx),tuple(cont[0][0]),cv2.FONT_HERSHEY_PLAIN,1,(0,255,0))\n",
        "\n",
        "cv2.imshow('img',img)\n",
        "cv2.imshow('img2',img2)\n",
        "cv2.waitKey(0)\n",
        "cv2.destroyAllWindows()"
      ],
      "metadata": {
        "id": "SWvnvnNeY30E"
      },
      "execution_count": null,
      "outputs": []
    },
    {
      "cell_type": "code",
      "source": [
        "#모멘트를 이용한 중심점,넓이,둘레길이\n",
        "import cv2\n",
        "import numpy as np\n",
        "\n",
        "img=cv2.imread('img_.png')\n",
        "imgray=cv2.cvtColor(img,cv2.COLOR_BGR2GRAY)\n",
        "ret,imthres=cv2.threshold(imgray,127,255,cv2.THRESH_BINARY_INV)\n",
        "im2,contour,hierarchy=cv2.findContours(imthres,cv2.RETR_EXTERNAL,cv2.CHAIN_APPROX_SIMPLE)\n",
        "\n",
        "for c in contours:\n",
        "    mmt=cv2.moments(c)\n",
        "    cx=int(mmt['m10']/mmt['m00'])\n",
        "    cy=int(mmt['m01']/mmt['m00'])\n",
        "    a=mmt['m00']\n",
        "    l=cv2.arcLength(c,True)\n",
        "    cv2.circle(img,(cx,cy),5,(0,255,255),-1)\n",
        "    cv2.putText(img,\"A:%.0f\"%a,(cx,cy+20),cv2.FONT_HERSHEY_PLAIN,1,(0,255,255))\n",
        "    cv2.putText(img,\"L:%.2f\"%l,tuple(c[0][0]),cv2.FONT_HERSHEY_PLAIN,1,(255,0,0))\n",
        "    print(\"area:%.2f\"%cv2.contourArea(c,False))\n",
        "\n",
        "cv2.imshow('img',img)\n",
        "cv2.waitKey(0)\n",
        "cv2.destroyAllWindows()"
      ],
      "metadata": {
        "id": "C30ROQnUa8yy"
      },
      "execution_count": null,
      "outputs": []
    },
    {
      "cell_type": "code",
      "source": [
        "#컨투어를 감싸는 도형 그리기\n",
        "import cv2\n",
        "import numpy as np\n",
        "\n",
        "img=cv2.imread('img_.png')\n",
        "imgray=cv2.cvtColor(img,cv2.COLOR_BGR2GRAY)\n",
        "ret,imthres=cv2.threshold(imgray,127,255,cv2.THRESH_BINARY_INV)\n",
        "im2,contour,hierarchy=cv2.findContours(imthres,cv2.RETR_EXTERNAL,cv2.CHAIN_APPROX_SIMPLE)\n",
        "\n",
        "contr=contours[0]\n",
        "x,y,w,h=cv2.boundingRect(contr)\n",
        "cv2.rectangle(img,(x,y),(x+w,y+h),(0,0,0),3)\n",
        "\n",
        "rect=cv2.minAreaRect(contr)\n",
        "box=cv2.boxpoint(rect)\n",
        "box=drawContours(img,[box],-1,(0,255,0),2)\n",
        "\n",
        "(x,y),radius=cv2.minEnclosingCircle(contr)\n",
        "center=(int(x),int(y))\n",
        "radius=int(radius)\n",
        "img=cv2.circle(img,center,radius,(0,255,255),2)\n",
        "\n",
        "ret,tri=cv2.minEnclosingTriangle(contr)\n",
        "cv2.polylines(img,[np.int32(tri)],True,(255,0,255),2)\n",
        "\n",
        "ellipse=cv2.fitEllipse(contr)\n",
        "img=cv2.ellipse(img,ellipse,(255,255,0),3)\n",
        "\n",
        "[vx,vy,x,y]=cv2.fitLine(contr,cv2.DIST_L2,0,0.01,0.01)\n",
        "cols,rows=img.shape[:2]\n",
        "cv2.line(img,((0,-x*vy/vx)+y),((cols-1,-(cols-1)*vy/vx)+y),(0,255,0),2)\n",
        "\n",
        "cv2.imshow('img',img)\n",
        "cv2.waitKey(0)\n",
        "cv2.destroyAllWindows()"
      ],
      "metadata": {
        "id": "bN6oSna5hDkK"
      },
      "execution_count": null,
      "outputs": []
    },
    {
      "cell_type": "code",
      "source": [
        "#근사컨투어\n",
        "import cv2\n",
        "import numpy as np\n",
        "\n",
        "img=cv2.imread('img_.png')\n",
        "img2=img.copy()\n",
        "imgray=cv2.cvtColor(img,cv2.COLOR_BGR2GRAY)\n",
        "ret,imthres=cv2.threshold(imgray,127,255,cv2.THRESH_BINARY_INV)\n",
        "im2,contour,hierarchy=cv2.findContours(imthres,cv2.RETR_EXTERNAL,cv2.CHAIN_APPROX_SIMPLE)\n",
        "contour=contours[0]\n",
        "epsilon=0.05*cv2.arcLength(contour,True)\n",
        "approx=cv2.approxPolyDP(contour,epsilon,True)\n",
        "cv2.drawContours(img2,[approx],-1,(0,255,0),3)\n",
        "cv2.drawContours(img,[contour],-1,(0,255,0),3)\n",
        "cv2.imshow('img',img)\n",
        "cv2.imshow('img2',img2)\n",
        "cv2.waitKey(0)\n",
        "cv2.destroyAllWindows()"
      ],
      "metadata": {
        "id": "lkeGz_lSiUNk"
      },
      "execution_count": null,
      "outputs": []
    },
    {
      "cell_type": "code",
      "source": [
        "#볼록 선체\n",
        "import cv2\n",
        "import numpy as np\n",
        "\n",
        "img=cv2.imread('img_.png')\n",
        "img2=img.copy()\n",
        "imgray=cv2.cvtColor(img,cv2.COLOR_BGR2GRAY)\n",
        "ret,imthres=cv2.threshold(imgray,127,255,cv2.THRESH_BINARY_INV)\n",
        "im2,contour,hierarchy=cv2.findContours(imthres,cv2.RETR_EXTERNAL,cv2.CHAIN_APPROX_SIMPLE)\n",
        "\n",
        "cntr=contours[0]\n",
        "cv2.drawContours(img,[cntr],-1,(0,0,255),1)\n",
        "\n",
        "hull=cv2.convexHull(cntr)\n",
        "cv2.drawContours(img2,[hull],-1,(0,0,255),1)\n",
        "\n",
        "print(cv2.isContourConvex(cntr))\n",
        "print(cv2.isContourConvex(hull)\n",
        "\n",
        "hull2=cv2.convexHull(cntr,returnPoints=False)\n",
        "defects=cv2.convexityDefects(cntr,hull2)\n",
        "\n",
        "for i in range(defects.shape[0]):\n",
        "    s,e,f,d=defects[i,0]\n",
        "    farthest=tuple(cntr[f][0])\n",
        "    dist=distance/256.0\n",
        "    if dist>1:\n",
        "        cv2.circle(img2,farthest,5,(255,0,0),-1)\n",
        "\n",
        "cv2.imshow('img',img)\n",
        "cv2.imshow('img2',img2)\n",
        "cv2.waitKey(0)\n",
        "cv2.destroyAllWindows()"
      ],
      "metadata": {
        "id": "mhLizKm2nBtC"
      },
      "execution_count": null,
      "outputs": []
    },
    {
      "cell_type": "code",
      "source": [
        "#도형 매칭으로 비슷한 도형 찾기\n",
        "import cv2\n",
        "import numpy as np\n",
        "\n",
        "img=cv2.imread('img_.png')\n",
        "img2=img.copy()\n",
        "imgray=cv2.cvtColor(img,cv2.COLOR_BGR2GRAY)\n",
        "ret,imthres=cv2.threshold(imgray,127,255,cv2.THRESH_BINARY_INV)\n",
        "im2,contour,hierarchy=cv2.findContours(imthres,cv2.RETR_EXTERNAL,cv2.CHAIN_APPROX_SIMPLE)\n",
        "\n",
        "img=cv2.imread('img_2.png')\n",
        "img2=img.copy()\n",
        "imgray=cv2.cvtColor(img,cv2.COLOR_BGR2GRAY)\n",
        "ret,imthres=cv2.threshold(imgray,127,255,cv2.THRESH_BINARY_INV)\n",
        "im2,contour,hierarchy=cv2.findContours(imthres,cv2.RETR_EXTERNAL,cv2.CHAIN_APPROX_SIMPLE)\n",
        "\n",
        "matchs=[]\n",
        "for contr in cntrs_shapes:\n",
        "    match=cv2.matchShapes(cntrs_target[0],contr,cv2.CONTOURS_MATHCH_I2,0.0)\n",
        "    matchs.append((match,contr))\n",
        "    cv2.putText(shapes,'%.2f'%match,tuple[0][0],cv2.FONT_HERSHEY_PLAIN,1,(0,0,255),1)\n",
        "matchs.sort(key=lambda x:x[0])\n",
        "cv2.drawContours(img2,[matchs[0][1]],-1,(0,0,255),3)\n",
        "cv2.imshow('img',img)\n",
        "cv2.imshow('img2',img2)\n",
        "cv2.waitKey(0)\n",
        "cv2.destroyAllWindows()"
      ],
      "metadata": {
        "id": "uAi_dSLMsUAo"
      },
      "execution_count": null,
      "outputs": []
    }
  ]
}