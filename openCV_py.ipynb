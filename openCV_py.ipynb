{
  "nbformat": 4,
  "nbformat_minor": 0,
  "metadata": {
    "colab": {
      "provenance": [],
      "authorship_tag": "ABX9TyPCkB8j3YxVnkYi0/YnPvC1",
      "include_colab_link": true
    },
    "kernelspec": {
      "name": "python3",
      "display_name": "Python 3"
    },
    "language_info": {
      "name": "python"
    }
  },
  "cells": [
    {
      "cell_type": "markdown",
      "metadata": {
        "id": "view-in-github",
        "colab_type": "text"
      },
      "source": [
        "<a href=\"https://colab.research.google.com/github/1phalleyscomet/2025-1/blob/main/openCV_py.ipynb\" target=\"_parent\"><img src=\"https://colab.research.google.com/assets/colab-badge.svg\" alt=\"Open In Colab\"/></a>"
      ]
    },
    {
      "cell_type": "markdown",
      "source": [
        "### 기본 입출력"
      ],
      "metadata": {
        "id": "LVLhn0uA9ck9"
      }
    },
    {
      "cell_type": "code",
      "execution_count": null,
      "metadata": {
        "colab": {
          "base_uri": "https://localhost:8080/"
        },
        "id": "1JAuqoNqRHtj",
        "outputId": "7ccea68d-7c9f-4fed-9de4-58aecf243703"
      },
      "outputs": [
        {
          "output_type": "stream",
          "name": "stdout",
          "text": [
            "No image file.\n"
          ]
        }
      ],
      "source": [
        "import cv2\n",
        "\n",
        "img_file=\"../img/girl.jpg\"\n",
        "img=cv2.imread(img_file)\n",
        "#img=cv2.imread(file_name [, mode_flag])\n",
        "# mode_flag=cv.2IMREAD_COLOR: 읽기 모드 지정,기본값\n",
        "# cv.2IMREAD_UNCHANGED: 파일 그대로 읽기\n",
        "#cv2.IMREAD_GRAYSCALE:흑백\n",
        "\n",
        "if img is not None:\n",
        "    cv2.imshow('IMG',img)\n",
        "    #cv2.imshow(titile,img)\n",
        "    cv2.waitKey()\n",
        "    #key=cv2.waitKey([delay])\n",
        "    cv2.destroyAllWindows()\n",
        "else:\n",
        "        print('No image file.')"
      ]
    },
    {
      "cell_type": "code",
      "source": [
        "import cv2\n",
        "\n",
        "img_file=\"../img/girl.jpg\"\n",
        "img=cv2.imread(img_file,cv2.IMREAD_GRAYSCALE)\n",
        "\n",
        "if img is not None:\n",
        "    cv2.imshow('IMG',img)\n",
        "    cv2.waitKey()\n",
        "    cv2.destroyAllWindows()\n",
        "else:\n",
        "    print('No Image File.')\n"
      ],
      "metadata": {
        "id": "Nw-6MDeDuyq0"
      },
      "execution_count": null,
      "outputs": []
    },
    {
      "cell_type": "code",
      "source": [
        "import cv2\n",
        "\n",
        "img_file='../img/girl.jpg'\n",
        "save_file='../img/girl_gray.jpg'\n",
        "\n",
        "img=cv2.imread(img_file, cv2.IMREAD_GRAYSCALE)\n",
        "cv2.imshow(img_file,img)\n",
        "cv2.imwrite(save_file,img) #파일로 저장\n",
        "cv2.waitKey()\n",
        "cv2.destroyAllWindows()"
      ],
      "metadata": {
        "id": "VtXQSwTVwRXm"
      },
      "execution_count": null,
      "outputs": []
    },
    {
      "cell_type": "code",
      "source": [
        "#동영상 파일 읽기\n",
        "import cv2\n",
        "\n",
        "video_file='../img/big_buck.avi'\n",
        "cap=cv2.VideoCapture(video_file)\n",
        "if cap.isOpened():\n",
        "    while True:\n",
        "        ret, img=cap.read()\n",
        "        if ret:\n",
        "            cv2.imshow(video_file,img)\n",
        "            cv2.waitKey(25)\n",
        "        else:\n",
        "            break\n",
        "    else:\n",
        "        print('cannot open video')\n",
        "    cap.release()\n",
        "    cv2.destroyAllWindows()\n"
      ],
      "metadata": {
        "id": "AQRyAXLJxZ6I"
      },
      "execution_count": null,
      "outputs": []
    },
    {
      "cell_type": "code",
      "source": [
        "#카메라 프레임 읽기\n",
        "import cv2\n",
        "cap=cv2.VideoCapture(0) #cv2.VideoCapture(index) 카메라 번호(0~)\n",
        "if cap.isOpened()\n",
        "    while True:\n",
        "        ret, img=cap.read()\n",
        "        if ret:\n",
        "            cv2.imshow('camera',img)\n",
        "            if cv2.waitKey(1) !=-1 #-1 대기시간동안 키 입력 없음\n",
        "            #cv2.waitKey(1) !=-1 대기시간 1초 후 키 입력 있음(임의)\n",
        "                break\n",
        "        else:\n",
        "            print('no frame')\n",
        "            break\n",
        "    else:\n",
        "        print('cannot open camera')\n",
        "    cap.release()\n",
        "    cv2.destroyAllWindows()"
      ],
      "metadata": {
        "id": "KRXMijGZ4Y_f"
      },
      "execution_count": null,
      "outputs": []
    },
    {
      "cell_type": "code",
      "source": [
        "#fps지정\n",
        "import cv2\n",
        "\n",
        "video_file='../big_buck.avi'\n",
        "cap=cv2.VideoCapture(video_file)\n",
        "if cap.isOpened():\n",
        "    fps=cap.get(cv2.CAP_PROP_FPS) #초당 프레임 수 구하기\n",
        "    delay=int(1000/fps) #지연 시간 구하기\n",
        "    print('FPS:%f,Delay:%dms'%(fps,delay))\n",
        "\n",
        "    while True:\n",
        "        ret,img=cap.read()\n",
        "        if ret:\n",
        "            cv2.imshow(viedo_file,img)\n",
        "            cv2.waitKey(delay)\n",
        "        else:\n",
        "            break\n",
        "else:\n",
        "    print('cannot open video')\n",
        "cap.release()\n",
        "cv2.destroyAllwindows()"
      ],
      "metadata": {
        "colab": {
          "base_uri": "https://localhost:8080/",
          "height": 193
        },
        "id": "gP4hBA6UB0A9",
        "outputId": "adaa581f-cf50-4192-d319-1922fd02cb28"
      },
      "execution_count": null,
      "outputs": [
        {
          "output_type": "stream",
          "name": "stdout",
          "text": [
            "cannot open video\n"
          ]
        },
        {
          "output_type": "error",
          "ename": "AttributeError",
          "evalue": "module 'cv2' has no attribute 'destroyAllwindows'",
          "traceback": [
            "\u001b[0;31m---------------------------------------------------------------------------\u001b[0m",
            "\u001b[0;31mAttributeError\u001b[0m                            Traceback (most recent call last)",
            "\u001b[0;32m/tmp/ipython-input-11-3821695162.py\u001b[0m in \u001b[0;36m<cell line: 0>\u001b[0;34m()\u001b[0m\n\u001b[1;32m     19\u001b[0m     \u001b[0mprint\u001b[0m\u001b[0;34m(\u001b[0m\u001b[0;34m'cannot open video'\u001b[0m\u001b[0;34m)\u001b[0m\u001b[0;34m\u001b[0m\u001b[0;34m\u001b[0m\u001b[0m\n\u001b[1;32m     20\u001b[0m \u001b[0mcap\u001b[0m\u001b[0;34m.\u001b[0m\u001b[0mrelease\u001b[0m\u001b[0;34m(\u001b[0m\u001b[0;34m)\u001b[0m\u001b[0;34m\u001b[0m\u001b[0;34m\u001b[0m\u001b[0m\n\u001b[0;32m---> 21\u001b[0;31m \u001b[0mcv2\u001b[0m\u001b[0;34m.\u001b[0m\u001b[0mdestroyAllwindows\u001b[0m\u001b[0;34m(\u001b[0m\u001b[0;34m)\u001b[0m\u001b[0;34m\u001b[0m\u001b[0;34m\u001b[0m\u001b[0m\n\u001b[0m",
            "\u001b[0;31mAttributeError\u001b[0m: module 'cv2' has no attribute 'destroyAllwindows'"
          ]
        }
      ]
    },
    {
      "cell_type": "code",
      "source": [
        "#카메라 프레임 크기 설정\n",
        "import cv2\n",
        "\n",
        "cap=cv2.VideoCapture(0)\n",
        "\n",
        "width=cap.get(cv2.CAP_PROP_FRAME_WIDTH)\n",
        "height=cap.get(cv2.CAP_PROP_FRAME_HEIGHT)\n",
        "print('Original width:%d,height:%d'%(width,height))\n",
        "#original w/h를 구하는 이유?\n",
        "\n",
        "cap.set(cv2.CAP_PROP_FRAME_WIDTH,320)\n",
        "cap.set(cv2.CAP_PROP_FRAME_HEIGHT,240)\n",
        "width=cap.get(cv2.CAP_PROP_FRAME_WIDTH)\n",
        "height=cap.get(cv2.CAP_PROP_FRAME_HEIGHT)\n",
        "print('Resized width:%d,height:%d'%(width,height))\n",
        "\n",
        "if cap.isOpened():\n",
        "    while True:\n",
        "        ret, img=cap.read()\n",
        "        if ret:\n",
        "            cv2.imshow('camera',img)\n",
        "            if cv2.waitKey(1) !=-1:\n",
        "                cv2.imwrite('photo.jpg',frame) #캡처 파일저장\n",
        "                break\n",
        "        else:\n",
        "            print('no frame')\n",
        "            break\n",
        "    else:\n",
        "        print('cannot open camera')\n",
        "    cap.release()\n",
        "    cv2.destroyAllWindows()"
      ],
      "metadata": {
        "colab": {
          "base_uri": "https://localhost:8080/"
        },
        "id": "xoPgr35gEif0",
        "outputId": "75c07ea9-5d3b-4bcb-a0e9-2e8aa985fad5"
      },
      "execution_count": null,
      "outputs": [
        {
          "output_type": "stream",
          "name": "stdout",
          "text": [
            "Original width:0,height:0\n",
            "Resized width:0,height:0\n"
          ]
        }
      ]
    },
    {
      "cell_type": "code",
      "source": [
        "#녹화\n",
        "import cv2\n",
        "\n",
        "cap=cv2.VideoCapture(0)\n",
        "if cap.isOpened():\n",
        "    file_path='../img/record.avi'\n",
        "    fps=25.40\n",
        "    fourcc=cv2.VideoWriter_fourcc(*'DIVX') #인코딩 포멧 문자(비디오 압축 방식 지정)\n",
        "    width=cap.get(cv2.CAP_PROP_FRAME_WIDTH)\n",
        "    height=cap.get(cv2.CAP_PROP_FRAME_HEIGHT)\n",
        "    size=(int(width),int(height))\n",
        "    out=cv2.VideoWriter(file_path,fourcc,fps,size)\n",
        "    while True:\n",
        "        ret,frame=cap.read()\n",
        "        if ret:\n",
        "            cv2.imshow('camera-recording',frame)\n",
        "            out.write(frame)\n",
        "            if cv2.waitKey(int(1000/fps)) !=-1:\n",
        "                break\n",
        "        else:\n",
        "            print('no frame')\n",
        "            break\n",
        "        out.release()\n",
        "    else:\n",
        "        print('cannot open camera')\n",
        "    cap.release()\n",
        "    cv2.destroyAllWindows()\n"
      ],
      "metadata": {
        "id": "RfvYdHcQKEb2"
      },
      "execution_count": null,
      "outputs": []
    },
    {
      "cell_type": "code",
      "source": [
        "import cv2\n",
        "import numpy as np\n",
        "\n",
        "img=np.full((500,500,3),255,dtype=np.uint8)\n",
        "cv2.imwrite('blanck_500.jpg',img)\n",
        "# 그림판 역할 이미지 생성"
      ],
      "metadata": {
        "colab": {
          "base_uri": "https://localhost:8080/"
        },
        "id": "fJ9NgrdJOqUB",
        "outputId": "eda930d5-2fd8-491d-ae0d-a44fd9d11a4b"
      },
      "execution_count": null,
      "outputs": [
        {
          "output_type": "execute_result",
          "data": {
            "text/plain": [
              "True"
            ]
          },
          "metadata": {},
          "execution_count": 4
        }
      ]
    },
    {
      "cell_type": "code",
      "source": [
        "import cv2\n",
        "\n",
        "img=cv2.imread('blanck_500.jpg')\n",
        "\n",
        "cv2.line(img,(50,50),(150,50),(255,0,0)) #파란색 1 픽셀 선\n",
        "cv2.line(img,(200,50),(300,50),(0,255,0)) #초록색 1 픽셀 선\n",
        "cv2.line(img,(350,50),(450,50),(0,0,255)) #빨간색 1 픽셀 선\n",
        "\n",
        "cv2.line(img,(100,150),(400,150),(255,0,255),10) #하늘색 10픽셀 선\n",
        "cv2.line(img,(100,150),(400,150),(255,0,255),10) #분홍색 10픽셀 선\n",
        "cv2.line(img,(100,300),(400,300),(0,0,0),10) #검은색 10픽셀 선\n",
        "\n",
        "cv2.line(img, (100,350),(400,400),(0,0,255),20,cv2.LINE_4) #4연결선\n",
        "cv2.line(img, (100,400),(400,450),(0,0,255),20,cv2.LINE_8) #8연결선\n",
        "cv2.line(img, (100,450),(400,500),(0,0,255),20,cv2.LINE_AA) #안티에일리어싱 선\n",
        "cv2.line(img, (0,0),(500,500),(0,0,255)) #대각선\n",
        "\n",
        "cv2.imshow('lines',img)\n",
        "cv2.waitKey(0)\n",
        "cv2.destroyAllWindows()\n"
      ],
      "metadata": {
        "colab": {
          "base_uri": "https://localhost:8080/",
          "height": 418
        },
        "id": "igS9mpaAPZhn",
        "outputId": "9944301b-82be-44d1-9b3f-0d4e7d49abd3"
      },
      "execution_count": null,
      "outputs": [
        {
          "output_type": "error",
          "ename": "DisabledFunctionError",
          "evalue": "cv2.imshow() is disabled in Colab, because it causes Jupyter sessions\nto crash; see https://github.com/jupyter/notebook/issues/3935.\nAs a substitution, consider using\n  from google.colab.patches import cv2_imshow\n",
          "traceback": [
            "\u001b[0;31m---------------------------------------------------------------------------\u001b[0m",
            "\u001b[0;31mDisabledFunctionError\u001b[0m                     Traceback (most recent call last)",
            "\u001b[0;32m/tmp/ipython-input-12-1109664309.py\u001b[0m in \u001b[0;36m<cell line: 0>\u001b[0;34m()\u001b[0m\n\u001b[1;32m     16\u001b[0m \u001b[0mcv2\u001b[0m\u001b[0;34m.\u001b[0m\u001b[0mline\u001b[0m\u001b[0;34m(\u001b[0m\u001b[0mimg\u001b[0m\u001b[0;34m,\u001b[0m \u001b[0;34m(\u001b[0m\u001b[0;36m0\u001b[0m\u001b[0;34m,\u001b[0m\u001b[0;36m0\u001b[0m\u001b[0;34m)\u001b[0m\u001b[0;34m,\u001b[0m\u001b[0;34m(\u001b[0m\u001b[0;36m500\u001b[0m\u001b[0;34m,\u001b[0m\u001b[0;36m500\u001b[0m\u001b[0;34m)\u001b[0m\u001b[0;34m,\u001b[0m\u001b[0;34m(\u001b[0m\u001b[0;36m0\u001b[0m\u001b[0;34m,\u001b[0m\u001b[0;36m0\u001b[0m\u001b[0;34m,\u001b[0m\u001b[0;36m255\u001b[0m\u001b[0;34m)\u001b[0m\u001b[0;34m)\u001b[0m \u001b[0;31m#대각선\u001b[0m\u001b[0;34m\u001b[0m\u001b[0;34m\u001b[0m\u001b[0m\n\u001b[1;32m     17\u001b[0m \u001b[0;34m\u001b[0m\u001b[0m\n\u001b[0;32m---> 18\u001b[0;31m \u001b[0mcv2\u001b[0m\u001b[0;34m.\u001b[0m\u001b[0mimshow\u001b[0m\u001b[0;34m(\u001b[0m\u001b[0;34m'lines'\u001b[0m\u001b[0;34m,\u001b[0m\u001b[0mimg\u001b[0m\u001b[0;34m)\u001b[0m\u001b[0;34m\u001b[0m\u001b[0;34m\u001b[0m\u001b[0m\n\u001b[0m\u001b[1;32m     19\u001b[0m \u001b[0mcv2\u001b[0m\u001b[0;34m.\u001b[0m\u001b[0mwaitKey\u001b[0m\u001b[0;34m(\u001b[0m\u001b[0;36m0\u001b[0m\u001b[0;34m)\u001b[0m\u001b[0;34m\u001b[0m\u001b[0;34m\u001b[0m\u001b[0m\n\u001b[1;32m     20\u001b[0m \u001b[0mcv2\u001b[0m\u001b[0;34m.\u001b[0m\u001b[0mdestroyAllWindows\u001b[0m\u001b[0;34m(\u001b[0m\u001b[0;34m)\u001b[0m\u001b[0;34m\u001b[0m\u001b[0;34m\u001b[0m\u001b[0m\n",
            "\u001b[0;32m/usr/local/lib/python3.11/dist-packages/google/colab/_import_hooks/_cv2.py\u001b[0m in \u001b[0;36mwrapped\u001b[0;34m(*args, **kwargs)\u001b[0m\n\u001b[1;32m     48\u001b[0m   \u001b[0;32mdef\u001b[0m \u001b[0mwrapped\u001b[0m\u001b[0;34m(\u001b[0m\u001b[0;34m*\u001b[0m\u001b[0margs\u001b[0m\u001b[0;34m,\u001b[0m \u001b[0;34m**\u001b[0m\u001b[0mkwargs\u001b[0m\u001b[0;34m)\u001b[0m\u001b[0;34m:\u001b[0m\u001b[0;34m\u001b[0m\u001b[0;34m\u001b[0m\u001b[0m\n\u001b[1;32m     49\u001b[0m     \u001b[0;32mif\u001b[0m \u001b[0;32mnot\u001b[0m \u001b[0mos\u001b[0m\u001b[0;34m.\u001b[0m\u001b[0menviron\u001b[0m\u001b[0;34m.\u001b[0m\u001b[0mget\u001b[0m\u001b[0;34m(\u001b[0m\u001b[0menv_var\u001b[0m\u001b[0;34m,\u001b[0m \u001b[0;32mFalse\u001b[0m\u001b[0;34m)\u001b[0m\u001b[0;34m:\u001b[0m\u001b[0;34m\u001b[0m\u001b[0;34m\u001b[0m\u001b[0m\n\u001b[0;32m---> 50\u001b[0;31m       \u001b[0;32mraise\u001b[0m \u001b[0mDisabledFunctionError\u001b[0m\u001b[0;34m(\u001b[0m\u001b[0mmessage\u001b[0m\u001b[0;34m,\u001b[0m \u001b[0mname\u001b[0m \u001b[0;32mor\u001b[0m \u001b[0mfunc\u001b[0m\u001b[0;34m.\u001b[0m\u001b[0m__name__\u001b[0m\u001b[0;34m)\u001b[0m\u001b[0;34m\u001b[0m\u001b[0;34m\u001b[0m\u001b[0m\n\u001b[0m\u001b[1;32m     51\u001b[0m     \u001b[0;32mreturn\u001b[0m \u001b[0mfunc\u001b[0m\u001b[0;34m(\u001b[0m\u001b[0;34m*\u001b[0m\u001b[0margs\u001b[0m\u001b[0;34m,\u001b[0m \u001b[0;34m**\u001b[0m\u001b[0mkwargs\u001b[0m\u001b[0;34m)\u001b[0m\u001b[0;34m\u001b[0m\u001b[0;34m\u001b[0m\u001b[0m\n\u001b[1;32m     52\u001b[0m \u001b[0;34m\u001b[0m\u001b[0m\n",
            "\u001b[0;31mDisabledFunctionError\u001b[0m: cv2.imshow() is disabled in Colab, because it causes Jupyter sessions\nto crash; see https://github.com/jupyter/notebook/issues/3935.\nAs a substitution, consider using\n  from google.colab.patches import cv2_imshow\n"
          ],
          "errorDetails": {
            "actions": [
              {
                "action": "open_snippet",
                "actionText": "Search Snippets for cv2.imshow",
                "snippetFilter": "cv2.imshow"
              }
            ]
          }
        }
      ]
    },
    {
      "cell_type": "code",
      "source": [
        "import cv2\n",
        "import numpy as np\n",
        "import matplotlib.pyplot as plt\n",
        "\n",
        "# 흰색 배경의 500x500 이미지 생성\n",
        "img = np.ones((500, 500, 3), dtype=np.uint8) * 255\n",
        "\n",
        "# 선 그리기\n",
        "cv2.line(img, (50, 50), (150, 50), (255, 0, 0), 1)     # 파랑 (img, 시작좌표,끝좌표,RGB,선픽셀)\n",
        "cv2.line(img, (200, 50), (300, 50), (0, 255, 0), 1)    # 초록\n",
        "cv2.line(img, (350, 50), (450, 50), (0, 0, 255), 1)    # 빨강\n",
        "cv2.line(img, (100, 150), (400, 150), (255, 0, 255), 10)  # 분홍\n",
        "cv2.line(img, (100, 300), (400, 300), (0, 0, 0), 10)      # 검정\n",
        "cv2.line(img, (100, 350), (400, 400), (0, 0, 255), 20, cv2.LINE_4)\n",
        "cv2.line(img, (100, 400), (400, 450), (0, 0, 255), 20, cv2.LINE_8)\n",
        "cv2.line(img, (100, 450), (400, 499), (0, 0, 255), 20, cv2.LINE_AA)\n",
        "cv2.line(img, (0, 0), (499, 499), (0, 0, 255), 1)\n",
        "\n",
        "# OpenCV는 BGR → matplotlib는 RGB로 변환 필요\n",
        "img_rgb = cv2.cvtColor(img, cv2.COLOR_BGR2RGB)\n",
        "\n",
        "# Colab에서 이미지 출력\n",
        "plt.figure(figsize=(6,6))\n",
        "plt.imshow(img_rgb)\n",
        "plt.axis('off')\n",
        "plt.title(\"Lines in Colab\")\n",
        "plt.show()\n"
      ],
      "metadata": {
        "colab": {
          "base_uri": "https://localhost:8080/",
          "height": 521
        },
        "id": "oafK4JKQSIFS",
        "outputId": "1665cc91-c31a-4efc-c059-cb450453c886"
      },
      "execution_count": null,
      "outputs": [
        {
          "output_type": "display_data",
          "data": {
            "text/plain": [
              "<Figure size 600x600 with 1 Axes>"
            ],
            "image/png": "[encoded data removed]"
          },
          "metadata": {}
        }
      ]
    },
    {
      "cell_type": "code",
      "source": [
        "#사각형 그리기\n",
        "import cv2\n",
        "\n",
        "img=cv2.imread('blank_500.jpg')\n",
        "\n",
        "cv2.rectangle(img,(50,50),(150,150),(225,0,0))\n",
        "cv2.rectangle(img,(300,300),(100,100),(0,255,0),-1) #채우기\n",
        "cv2.imshow('rectangle',img)\n",
        "cv2.waitKey(0)\n",
        "cv2.destroyAllWindows()"
      ],
      "metadata": {
        "id": "ojhEvTSfSmUN"
      },
      "execution_count": null,
      "outputs": []
    },
    {
      "cell_type": "code",
      "source": [
        "#다각형 그리기\n",
        "import cv2\n",
        "import numpy as np\n",
        "\n",
        "img=cv2.imread('blank_500.jpg')\n",
        "\n",
        "#좌표생성\n",
        "pts1=np.array([[50,50],[150,150],[100,140],[200,240]],dtype=np.int32) #dtype 데이터타입\n",
        "pts2=np.array([[350,50],[250,200],[450,200]],dtype=np.int32)\n",
        "pts3=np.array([[150,300],[50,450],[250,450]],dtype=np.int32)\n",
        "pts4=np.array([[350,250],[450,350],[400,450],[300,450],[300,350]],dtype=np.int32)\n",
        "\n",
        "cv2.polylines(img,[pts1],False,(255,0,0))\n",
        "cv2.polylines(img,[pts2],False,(0,0,0),10)\n",
        "cv2.polylines(img,[pts3],True,(0,0,255),10)\n",
        "cv2.polylines(img,[pts4],True,(0,0,0))\n",
        "#(img,좌표,isClosed,RGB)\n",
        "\n",
        "cv2.imshow('polyline',img)\n",
        "cv2.waitKey(0)\n",
        "cv2.destroyAllWindows()"
      ],
      "metadata": {
        "id": "1AoiJUOsToF1"
      },
      "execution_count": null,
      "outputs": []
    },
    {
      "cell_type": "code",
      "source": [
        "#원 그리기\n",
        "cv2.circle(img,(150,150),100,(255,0,0))\n",
        "cv2.circle(img,(300,100),70,(0,255,0),5)\n",
        "cv2.circle(img,(400,300),50,(0,0,255),-1) #채우기\n",
        "#(img, 원점좌표,반지름,RGB)\n",
        "\n",
        "#타원 그리기\n",
        "cv2.ellipse(img,(50,300),(50,50),0,0,360,(0,0,255))\n",
        "cv2.ellipse(img,(150,300),(50,50),0,0,180,(0,255,0)) #아래반원\n",
        "cv2.ellipse(img,(150,300),(50,50),0,181,360,(0,255,0)) #위반원\n",
        "cv2.ellipse(img,(450,300),(50,75),0,0,360,(0,0,255)) #위로 긴 타원\n",
        "cv2.ellipse(img,(450,300),(75,50),0,0,360,(0,255,0)) #아래로 긴 타원\n",
        "cv2.ellipse(img,(50,425),(50,75),15,0,360,(0,0,255)) #회전 15도(사분면 순서 기준)\n",
        "#(img,원점좌표,기준축길이,기준축회전각,호 시작각,호 끝각,RGB)\n",
        "\n",
        "#글씨 그리기\n",
        "cv2.putText(img,'OpenCV',(50,30),cv2.FONT_HERSHEY_SIMPLEX,1,(0,0,255))\n",
        "cv2.putText(img,'OpenCV',(50,130),cv2.FONT_HERSHEY_PLAIN | cv2.FONT_ITALIC, 1,(0,0,255))\n",
        "#(img,문자열,좌표(좌측하단기준),글꼴,크기,RGB)"
      ],
      "metadata": {
        "id": "1kgeySvWY3FK"
      },
      "execution_count": null,
      "outputs": []
    }
  ]
}