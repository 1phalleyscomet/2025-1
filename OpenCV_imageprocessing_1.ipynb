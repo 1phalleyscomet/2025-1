{
  "nbformat": 4,
  "nbformat_minor": 0,
  "metadata": {
    "colab": {
      "provenance": [],
      "toc_visible": true,
      "authorship_tag": "ABX9TyOlRIBL1bwwj8yau202M3Dv",
      "include_colab_link": true
    },
    "kernelspec": {
      "name": "python3",
      "display_name": "Python 3"
    },
    "language_info": {
      "name": "python"
    }
  },
  "cells": [
    {
      "cell_type": "markdown",
      "metadata": {
        "id": "view-in-github",
        "colab_type": "text"
      },
      "source": [
        "<a href=\"https://colab.research.google.com/github/1phalleyscomet/2025-1/blob/main/OpenCV_imageprocessing_1.ipynb\" target=\"_parent\"><img src=\"https://colab.research.google.com/assets/colab-badge.svg\" alt=\"Open In Colab\"/></a>"
      ]
    },
    {
      "cell_type": "code",
      "source": [
        "#관심영역 지정 코드\n",
        "roi=img[y:y+h,x:x+w] #슬라이싱"
      ],
      "metadata": {
        "id": "Y1PL8UtRFeSA"
      },
      "execution_count": null,
      "outputs": []
    },
    {
      "cell_type": "code",
      "source": [
        "import cv2\n",
        "import numpy as np\n",
        "\n",
        "img=cv2.imread(\"../img/sunset.jpg\")\n",
        "\n",
        "x=320; y=150; w=50; h=50 #roi좌표\n",
        "roi=img[y:y+h,x:x+w] #roi 지정\n",
        "print(roi.shape) #roi shape,(50,50,3)\n",
        "cv2.rectangle(roi,(0,0),(h-1,w-1),(0,255,0)) #roi에 사각형 그리기\n",
        "#관심영역 지정 X시\n",
        "#cv2.rectangle(img,(x,y),(x+w,y+h),(0,255,0))\n",
        "cv2.imshow(\"img\",img)\n",
        "cv2.waitKey(0)\n",
        "cv2.destroyAllWindows()"
      ],
      "metadata": {
        "id": "rH7HPrw0Ix5p"
      },
      "execution_count": null,
      "outputs": []
    },
    {
      "cell_type": "code",
      "source": [
        "#관심영역만 새 창 표시\n",
        "import cv2\n",
        "import numpy as np\n",
        "\n",
        "img=cv2.imread(\"../img/sunset.jpg\")\n",
        "\n",
        "x=320; y=150; w=50; h=50 #roi좌표\n",
        "roi=img[y:y+h,x:x+w] #roi 지정\n",
        "img2=roi.copy()#roi 배열 복제\n",
        "img[y:y+h,x+w:x+w+w]=roi #새로운 좌표에 roi추가, 태양 2개 생성\n",
        "cv2.rectangle(img,(x,y),(x+w+w,y+h),(0,255,0))\n",
        "\n",
        "cv2.imshow(\"img\",img) #원본 이미지 출력\n",
        "cv2.imshow(\"roi\",img2) #roi만 따로 출력\n",
        "cv2.waitKey(0)\n",
        "cv2.destroyAllWindows()"
      ],
      "metadata": {
        "id": "bJpjlp19LEpO"
      },
      "execution_count": null,
      "outputs": []
    },
    {
      "cell_type": "code",
      "source": [
        "#마우스로 관심영역 지정\n",
        "import cv2\n",
        "import numpy as np\n",
        "\n",
        "isDragging=False #마우스 드래그 상태 저장\n",
        "x0,y0,w,h =-1=-1=-1=-1 #영역 선택 좌표 저장\n",
        "blue,red=(255,0,0),(0,0,255)\n",
        "\n",
        "def onMouse(event,x,y,flags,param): #마우스 이벤트 핸들 함수\n",
        "    global isDragging,x0,y0,img #전역변수 참조\n",
        "    if event==cv2.EVENT_LBUTTONDOWN: #마우스 왼쪽 버튼 누름\n",
        "        isDragging=True\n",
        "        x0=x\n",
        "        y0=y\n",
        "    elif event==cv2.EVENT_MOUSEMOVE: #마우스 움직임\n",
        "        if isDragging: #마우스 드래그 진행 중\n",
        "            img_draw=img.copy() #사각형 그림 표현을 위한 이미지 복제\n",
        "            cv2.rectangle(img_draw,(x0,y0),(x,y),blue,2) #드래그 진행 영역 표시\n",
        "            cv2.imshow('img',img_draw)\n",
        "        elif event == cv2.EVENT_LBUTTONUP\n",
        "            if isDragging =False\n",
        "            w=x-x0\n",
        "            h=y-y0\n",
        "            print(\"x:%d\",\"y:%d\",\"w:%d\",\"h:%d\" % (x0,y0,w,h))\n",
        "            if w>0 and h>0:\n",
        "                img_draw=img.copy()\n",
        "                cv2.rectangle(img_draw,(x0,y0),(x,y),red,2)\n",
        "                cv2.imshow('img',img_draw)\n",
        "                roi=img[y0:y0+h,x0:x0+w]\n",
        "                cv2.imshow('cropped',roi)\n",
        "                cv2.moveWindow('cropped',0,0)\n",
        "                cv2.imwrite('./cropped.jpg',roi)\n",
        "                print(\"cropped.\")\n",
        "            else:\n",
        "                cv.imshow('img',img)\n",
        "                print(\"좌측상단에서 우측 하단으로 드래그하세요.\"\n",
        "img=cv2.imread(\"../img/sunset.jpg\")\n",
        "cv2.imshow('img',img)\n",
        "cv2.setMoutseCallback('img',onMouse)\n",
        "cv2.waitKey()\n",
        "cv2.destroyAllWindows()"
      ],
      "metadata": {
        "id": "SljZAsqwMSVf"
      },
      "execution_count": null,
      "outputs": []
    },
    {
      "cell_type": "code",
      "source": [
        "#opencv 3 selectROI\n",
        "import cv2\n",
        "import numpy as np\n",
        "\n",
        "img=cv2.imread(\"../img/sunset.jpg\")\n",
        "x,y,h,w=cv2.selectROI('img',img,False)\n",
        "if w and h:\n",
        "    roi=img[y:y+h,x:x+w]\n",
        "    cv2.imshow('cropped',roi)\n",
        "    cv2.moveWindow('cropped',0,0)\n",
        "    cv2.imwrite('./cropped2.jpg',roi)\n",
        "\n",
        "cv2.imshow('img',img)\n",
        "cv2.waitKey(0)\n",
        "cv2.destroyAllWindows()"
      ],
      "metadata": {
        "id": "korqPu8IPNG9"
      },
      "execution_count": null,
      "outputs": []
    },
    {
      "cell_type": "code",
      "source": [
        "import cv2\n",
        "import numpy as np\n",
        "\n",
        "img=cv2.imread('../img/opencv_logo.png')\n",
        "bgr=cv2.imread('../img/opencv_logo.png',cv2.IMREAD_COLOR)\n",
        "bgra=cv2.imread('../img/opencv_logo.png',cv2.IMREAD_UNCHANGED)\n",
        "print(\"default:\",img.shape,'color:',bgr.shape,'unchanged:',bgra.shape)\n",
        "cv2.imshow('bgr',bgr)\n",
        "cv2.imshow('bgra',bgra)\n",
        "cv2.imshow('alpha',bgra[:,:,3])\n",
        "\n",
        "cv2.waitKey(0)\n",
        "cv2.destroyAllWindows()"
      ],
      "metadata": {
        "id": "ITh0l18QYNB3"
      },
      "execution_count": null,
      "outputs": []
    },
    {
      "cell_type": "code",
      "source": [
        "import cv2\n",
        "import numpy as np\n",
        "\n",
        "img=cv2.imread('../img/girl.png')\n",
        "img2=img.astype(np.unit16) #dtype변경\n",
        "b,g,r=cv2.split(img2)#채널별로 분리\n",
        "gray1=((b+g+r)/3.astype(np.uint8)#평균값 연산 후 dtype변경\n",
        "gray2=cv2.cvtColor(img,cv2,COLOR_BGR2GRAY) #BGR을 그레이 스케일로 변경\n",
        "cv2.imshow('original',img)\n",
        "cv2.imshow('gray1',gray1)\n",
        "cv2.imshow('gray2',gray2)\n",
        "\n",
        "cv2.waitKey(0)\n",
        "cv2.destroyAllWindow()"
      ],
      "metadata": {
        "id": "kp15JmEjcGbK"
      },
      "execution_count": null,
      "outputs": []
    },
    {
      "cell_type": "code",
      "source": [
        "#플래그 상수 출력\n",
        "[i for i in dir(cv2) if i.startswith('COLOR_')]"
      ],
      "metadata": {
        "id": "OB4NOCu5dv5x"
      },
      "execution_count": null,
      "outputs": []
    },
    {
      "cell_type": "code",
      "source": [
        "#BGR->HSV\n",
        "import cv2\n",
        "import numpy as np\n",
        "\n",
        "red_bgr=np.array([[[0,0,255]]],dype=np.uint8) #red값만 갖는 픽셀\n",
        "green_bgr=np.array([[[0,255,0]]],dype=np.uint8) #green값만 갖는 픽셀\n",
        "blue_bgr=np.array([[[255,0,0]]],dype=np.uint8) #blue값만 갖는 픽셀\n",
        "yellow_bgr=np.array([[[0,225,255]]],dype=np.uint8) #yellow값만 갖는 픽셀\n",
        "\n",
        "red_hsv=cv2.cvtColor(red_bgr,cv2.COLOR_BGR2HSV);\n",
        "green_hsv=cv2.cvtColor(green_bgr,cv2.COLOR_BGR2HSV);\n",
        "blue_hsv=cv2.cvtColor(blue_bgr,cv2.COLOR_BGR2HSV);\n",
        "yellow_hsv=cv2.cvtColor(yellow_bgr,cv2.COLOR_BGR2HSV);\n",
        "\n",
        "print('red:',red_hsv)\n",
        "print('green:',green_hsv)\n",
        "print('blue:',blue_hsv)\n",
        "print('yellow:',yellow_hsv)"
      ],
      "metadata": {
        "id": "avjHQW4VeZyk"
      },
      "execution_count": null,
      "outputs": []
    },
    {
      "cell_type": "code",
      "source": [
        "#전역 스레시홀딩\n",
        "import cv2\n",
        "import numpy as np\n",
        "import matplotlib.pyplot as plt\n",
        "\n",
        "img=cv2.imread('../img/gray_gradient.png',cv2.IMREAD_GRAYSCALE)\n",
        "\n",
        "#NUMPY연산으로 바이너리 이미지 생성\n",
        "thresh_np=np.zeros_like(img) #원본과 동일한 크기의 0으로 채워진 이미지\n",
        "thresh_np[img>127]=255 #127보다 큰 값만 255로 변경\n",
        "\n",
        "#opencv함수로 바이너리 이미지 생성\n",
        "ret,thresh_cv=cv2.threshold(img,127,255,cv2.THRESH_BINARY)\n",
        "print(ret) #127.0 바이너리 이미지에 사용된 경계 값 변환\n",
        "\n",
        "#원본, 결과물 출력\n",
        "img={'origial':img,'numpy':thresh_np,'opencv':thresh_cv}\n",
        "for i, (key,value) in enumerate(img.items()):\n",
        "    plt.subplot(1,3,i+1)\n",
        "    plt.title(key)\n",
        "    plt.imshow(value,cmap='gray')\n",
        "    plt.xticks([]); plt.ythicks([])"
      ],
      "metadata": {
        "id": "6ojmTokzvH7v"
      },
      "execution_count": null,
      "outputs": []
    },
    {
      "cell_type": "code",
      "source": [
        "import cv2\n",
        "import numpy as np\n",
        "import matplotlib.pyplot as plt\n",
        "\n",
        "img=cv2.imread('../img/gray_gradient.png',cv2.IMREAD_GRAYSCALE)\n",
        "\n",
        "_,t_bin=cv2.threshold(img,127,255,cv2.THRESH_BINARY) #127보다 크면 255\n",
        "_,t_bininv=cv2.threshold(img,127,255,cv2.THRESH_BINARY_INV)\n",
        "_,t_trunc=cv2.threshold(img,127,255,cv2.THRESH_TRUNC)\n",
        "_,t_2zr=cv2.threshold(img,127,255,cv2.THRESH_TOZERO)\n",
        "_,t_2zrinv=cv2.threshold(img,127,255,cv2.THRESH_TOZERO_INV)\n",
        "\n",
        "img={'original':img,'binary':t_bin,'binary_inv':t_bininv,'trunc':t_trunc,'tozero':t_2zr,'tozero_inv':t_2zrinv}\n",
        "for i, (key,value) in enumerate(img.items()):\n",
        "    plt.subplot(2,3,i+1)\n",
        "    plt.title(key)\n",
        "    plt.imshow(value,cmap='gray')\n",
        "    plt.xticks([]); plt.yticks([]) #축 눈금 숨기기\n",
        "\n",
        "plt.show()"
      ],
      "metadata": {
        "id": "FyGYJVxUyHPf"
      },
      "execution_count": null,
      "outputs": []
    },
    {
      "cell_type": "code",
      "source": [
        "#오츠의 알고리즘을 적용한 스레시홀드\n",
        "import cv2\n",
        "import numpy as np\n",
        "import matplotlib.pyplot as plt\n",
        "\n",
        "img=cv2.imread('../img/scaned_paper.png',cv2.IMREAD_GRAYSCALE)\n",
        "#경계값을 130으로 지정\n",
        "_,t_130=cv2.threshold(img,130,225,cv2.cv2.THRESH_BINARY)\n",
        "#오츠의 알고리즘 선택\n",
        "t,t_otsu=cv2.cv2.threshold(img,-1,255,cv2.THRESH_BINARY|cv2.THRESH_OTSU)\n",
        "print('otsu threshold:',t)\n",
        "\n",
        "imgs={'original':img,'t:130':t_130,'otsu:%d':%t:t_otsu}\n",
        "for i, (key,value) in enumerate(imgs.items()):\n",
        "    plt.subplot(1,3,i+1)\n",
        "    plt.title(key)\n",
        "    plt.imshow(value,cmap='gray')\n",
        "    plt.xticks([]); plt.yticks([])\n",
        "plt.show()"
      ],
      "metadata": {
        "id": "sfUjc0JOy5Kg"
      },
      "execution_count": null,
      "outputs": []
    },
    {
      "cell_type": "code",
      "source": [
        "#적응형 스레시홀드\n",
        "import cv2\n",
        "import numpy as np\n",
        "import matplotlib.pyplot as plt\n",
        "\n",
        "blk_size=9 #블록 사이즈\n",
        "C=5 #차감상수\n",
        "img=cv2.imread('../img/sudoku.png',cv2.cv2.IMREAD_GRAYSCALE)\n",
        "\n",
        "ret, th1=cv2.threshold(img,0,255,cv2.cv2.THRESH_BINARY|cv2.THRESH_OTSU)\n",
        "th2=cv2.adaptiveThreshold(img,255,cv2.ADAPTIVE_THRESH_MEAN_C,cv2.THRESH_BINARY,blk_size,C)\n",
        "TH3=cv2.adaptiveThreshold(img,255,cv2.ADAPTIVE_THRESH_GAUSSIAN_C,cv2.THRESH_BINARY,blk_size,C)\n",
        "\n",
        "IMGS={'original':img,'global-otsu:%d'%ret:th1,'adapted-mean':th2,'adapted-gaussian':th3}\n",
        "for i, (key,value) in enumerate(imgs.items()):\n",
        "    plt.subplot(1,3,i+1)\n",
        "    plt.title(key)\n",
        "    plt.imshow(value,cmap='gray')\n",
        "    plt.xticks([]); plt.yticks([])\n",
        "plt.show()"
      ],
      "metadata": {
        "id": "mB5heoUr3qQf"
      },
      "execution_count": null,
      "outputs": []
    },
    {
      "cell_type": "code",
      "source": [
        "#영상의 사칙연산\n",
        "import cv2\n",
        "import numpy as np\n",
        "\n",
        "a=np.uint8([[200,50]])\n",
        "b=np.uint8([[100,100]]) #연산에 사용할 배열\n",
        "\n",
        "#numpy배열 직접 연산\n",
        "add1=a+b\n",
        "sub1=a-b\n",
        "mult1=a*2\n",
        "div1=a/3\n",
        "\n",
        "#opencv api 연산\n",
        "add2=cv2.add(a,b)\n",
        "sub2=cv2.subtract(a,b)\n",
        "mult2=cv2.multiply(a,2)\n",
        "div2=cv2.divide(a,3)\n",
        "\n",
        "print(add1,add2)\n",
        "print(sub1,sub2)\n",
        "print(mult1,mult2)\n",
        "print(div1,div2)\n"
      ],
      "metadata": {
        "id": "uDzsAYOkPZLA",
        "colab": {
          "base_uri": "https://localhost:8080/"
        },
        "outputId": "261dd797-b679-4e3d-9e2c-0ea1f5f44461"
      },
      "execution_count": null,
      "outputs": [
        {
          "output_type": "stream",
          "name": "stdout",
          "text": [
            "[[ 44 150]] [[255 150]]\n",
            "[[100 206]] [[100   0]]\n",
            "[[144 100]] [[255 100]]\n",
            "[[66.66666667 16.66666667]] [[67 17]]\n"
          ]
        }
      ]
    },
    {
      "cell_type": "code",
      "source": [
        "#mask와 누적 할당\n",
        "import cv2\n",
        "import numpy as np\n",
        "\n",
        "a=np.array([[1,2]],dtype=np.uint8)\n",
        "b=np.array([[10,20]],dtype=np.uint8)\n",
        "mask=np.array([[1,0]],dtype=np.uint8)\n",
        "\n",
        "c1=cv2.add(a,b,None,mask)\n",
        "print(c1)\n",
        "c2=cv2.add(a,b,b,mask)\n",
        "print(c2)\n",
        "print(b)\n",
        "print(a)"
      ],
      "metadata": {
        "colab": {
          "base_uri": "https://localhost:8080/"
        },
        "id": "RUA0ccsZ9lZU",
        "outputId": "c0073b64-1760-4690-9fba-ffca37879fbc"
      },
      "execution_count": null,
      "outputs": [
        {
          "output_type": "stream",
          "name": "stdout",
          "text": [
            "[[11  0]]\n",
            "[[11 20]]\n",
            "[[11 20]]\n",
            "[[1 2]]\n"
          ]
        }
      ]
    },
    {
      "cell_type": "code",
      "source": [
        "#이미지 단순 합성\n",
        "import cv2\n",
        "import numpy as np\n",
        "import matplotlib.pylab as plt\n",
        "\n",
        "img1=cv2.imread('../img/wing_wall.jpg')\n",
        "img2=cv2.imread('../img/yate.jpg')\n",
        "\n",
        "img3=img1+img2\n",
        "img4=cv2.add(img1,img2)\n",
        "\n",
        "imgs={'img1':img1,'img2':img2,'img1+img2':img3,'cv2.add(img1,img2)':img4}\n",
        "\n",
        "for i (k,v) in enumerate(imgs.items()):\n",
        "    plt.subplot(2,2,i+1)\n",
        "    plt.imshow(v[:,:,::-1])\n",
        "    plt.title(k)\n",
        "    plt.xticks([]);plt.yticks([])\n",
        "plt.show()"
      ],
      "metadata": {
        "id": "XLLYMosk-eHJ"
      },
      "execution_count": null,
      "outputs": []
    },
    {
      "cell_type": "code",
      "source": [
        "#50% 알파 블랜딩\n",
        "import cv2\n",
        "import numpy as np\n",
        "\n",
        "alpha=0.5\n",
        "img1=cv2.imread('../img/wing_wall.jpg')\n",
        "img2=cv2.imread('../img/yate.jpg')\n",
        "\n",
        "#직접 연산\n",
        "blended=img1*alpha+img2*(1-alpha)\n",
        "blended=blended.astype(np.uint8)\n",
        "cv2.imshow(\"img1*alpha+img2*(1-alpha)\",blended)\n",
        "\n",
        "#opencv api\n",
        "blended=cv2.addWeighted(img1,alpha,img2,(1-alpha),0)\n",
        "cv2.imshow(\"cv2.addWeighted\",blended)\n"
      ],
      "metadata": {
        "id": "2BM4to43vYlY"
      },
      "execution_count": null,
      "outputs": []
    },
    {
      "cell_type": "code",
      "source": [
        "#트랙바로 알파값 조절\n",
        "import cv2\n",
        "import numpy as np\n",
        "\n",
        "win_name='alpha blending'\n",
        "trackbar_name='fade'\n",
        "\n",
        "def onChange(x):\n",
        "    alpha=x/100\n",
        "    dst=cv2.addWeighted(img1,1-alpha,img2,alpha,0)\n",
        "    cv2.imshow(win_name,dst)\n",
        "\n",
        "img1=cv2.imread('../img/wing_wall.jpg')\n",
        "img2=cv2.imread('../img/yate.jpg')\n",
        "\n",
        "cv2.imshow(win_name,img1)\n",
        "cv2.createTrackbar(trackbar_name,win_name,0,100,onChange)\n",
        "cv2.waitKey(0)\n",
        "cv2.destroyAllWindows()"
      ],
      "metadata": {
        "id": "C4OIAyu0xgXA"
      },
      "execution_count": null,
      "outputs": []
    },
    {
      "cell_type": "code",
      "source": [
        "#bitwise\n",
        "import cv2\n",
        "import numpy as np\n",
        "import matplotlib.pylab as plt\n",
        "\n",
        "img1=np.zeros((200,400),dtype=np.uint8)\n",
        "img2=np.zeros((200,400),dtype=np.uint8)\n",
        "\n",
        "img1[:, :200]=255\n",
        "img2[100:200, : ]=255\n",
        "\n",
        "bitAnd=cv2.bitwise_and(img1,img2)\n",
        "bitOr=cv2.bitwise_or(img1,img2)\n",
        "bitXor=cv2.bitwise_xor(img1,img2)\n",
        "bitNot=cv2.bitwise_not(img1)\n",
        "\n",
        "imgs={'img1':img1,'img2':img2,'bitAnd':bitAnd,'bitOr':bitOr,'bitXor':bitXor,'not(img1)':bitNot}\n",
        "for i (title,img) in enumerate(imgs.items()):\n",
        "    plt.subplot(2,3,i+1)\n",
        "    plt.imshow(img,cmap='gray')\n",
        "    plt.title(title)\n",
        "    plt.xticks([]); plt.yticks([])\n",
        "plt.show()"
      ],
      "metadata": {
        "id": "Ozl5Fm2szLzE"
      },
      "execution_count": null,
      "outputs": []
    },
    {
      "cell_type": "code",
      "source": [
        "#마스킹\n",
        "import cv2\n",
        "import numpy as np\n",
        "import matplotlib.pylab as plt\n",
        "\n",
        "img=cv2.imread('../img/girl.jpg')\n",
        "\n",
        "mask=np.zeros_like(img)\n",
        "cv2.circle(mask,(150,140),100,(255,255,255),-1)\n",
        "\n",
        "masked=cv2.bitwise_and(img,mask)\n",
        "\n",
        "cv2.imshow('img',img)\n",
        "cv2.imshow('mask',mask)\n",
        "cv2.imshow('masked',masked)\n",
        "cv2.waitKey(0)\n",
        "cv2.destroyAllWindows()"
      ],
      "metadata": {
        "id": "BaJ-OUZw0RdX"
      },
      "execution_count": null,
      "outputs": []
    },
    {
      "cell_type": "code",
      "source": [
        "#차영상\n",
        "import cv2\n",
        "import numpy as np\n",
        "\n",
        "img1=cv2.imread('../img/robot_arm1.jpg')\n",
        "img2=cv2.imread('../img/robot_arm2.jpg')\n",
        "img1_gray=cv2.cvtColor(img1,cv2.COLOR_BGR2GRAY)\n",
        "img2_gray=cv2.cvtColor(img2,cv2.COLOR_BGR2GRAY)\n",
        "diff=cv2.absdiff(img1_gray,img2_gray)\n",
        "#차영상을 극대화하기 위한 스레시 홀드 처리 및 컬러로 변환\n",
        "_,diff_bin=cv2.threshold(diff,30,255,cv2.THRESH_BINARY)\n",
        "diff_red=cv2.cvtColor(diff,cv2.COLOR_GRAY2BGR)\n",
        "diff_red[:,:,2]=0\n",
        "\n",
        "spot=cv2.bitwise_xor(img2,diff_red)\n",
        "\n",
        "cv2.imshow('img1',img1)\n",
        "cv2.imshow('img2',img2)\n",
        "cv2.imshow('diff',diff)\n",
        "cv2.imshow('spot',spot)\n"
      ],
      "metadata": {
        "id": "VrDpQk_f1Mz1"
      },
      "execution_count": null,
      "outputs": []
    },
    {
      "cell_type": "code",
      "source": [
        "#투명배경png파일을 이용한 합성\n",
        "import cv2\n",
        "import numpy as np\n",
        "\n",
        "img_fg=cv2.imread('../img/opencv_logo.png',cv2.IMREAD_UNCHANGED)\n",
        "img_bg=cv2.imread('../img/girl.jpg')\n",
        "\n",
        "_, mask=cv2.threshold(img_fg[:,:,3],1,255,cv2.THRESH_BYNARY)\n",
        "mask_inv=cv2.bitwise_not(mask)\n",
        "\n",
        "#전경 영상 크기로 배경 영상에서 roi잘라내기\n",
        "img_fg=cv2.cvtColor(img_fg,cv2.COLOR_BGRA2BGR)\n",
        "h,w=img_fg.shape[:2]\n",
        "roi=img_bg[10:10+h,10:10+w]\n",
        "\n",
        "#마스크를 이용해서 오려내기\n",
        "masked_fg=cv2.bitwise_and(img_fg,img_fg,mask=mask)\n",
        "masked_bg=cv2.bitwise_and(roi,roi,mask=mask_inv)\n",
        "\n",
        "added=masked_fg+masked_bg\n",
        "img_bg[10:10+h,10:10+w]=added\n",
        "\n",
        "cv2.imshow('mask',mask)\n",
        "cv2.imshow('mask_inv',mask_inv)\n",
        "cv2.imshow('masked_fg',mask_fg)\n",
        "cv2.imshow('masked_bg',masked_bg)\n",
        "cv2.imshow('added',added)\n",
        "cv2.imshow('result',img_bg)\n",
        "\n",
        "cv2.waitKey(0)\n",
        "cv2.destroyAllWindows()"
      ],
      "metadata": {
        "id": "FwaA7ob04RlX"
      },
      "execution_count": null,
      "outputs": []
    },
    {
      "cell_type": "code",
      "source": [
        " #hsv색상으로 마스킹\n",
        "import cv2\n",
        "import numpy as np\n",
        "import matplotlib.pylab as plt\n",
        "\n",
        "img=cv2.imread('../img/cube.jpg')\n",
        "hsv=cv2.cvtColor(img,cv2.COLOR_BGR2HSV)\n",
        "\n",
        "#영역 지정\n",
        "blue1=np.array([90,50,50])\n",
        "blue2=np.array([120,255,255])\n",
        "green1=np.array([45,50,50])\n",
        "green2=np.array([75,255,255])\n",
        "red1=np.array([0,50,50])\n",
        "red2=np.array([15,255,255])\n",
        "red3=np.array([165,50,50])\n",
        "red4=np.array([180,255,255])\n",
        "yellow1=np.array([20,50,50])\n",
        "yellow2=np.array([35,255,255])\n",
        "\n",
        "#마스크 생성\n",
        "mask_blue=cv2.inRange(hsv,blue1,blue2)\n",
        "mask_green=cv2.inRange(hsv,green1,green2)\n",
        "mask_red=cv2.inRange(hsv,red1,red2)\n",
        "mask_red2=cv2.inRange(hsv,red3,red4)\n",
        "mask_yellow=cv2.inRange(hsv,yellow1,yellow2)\n",
        "\n",
        "#색상 추출\n",
        "res_blue=cv2.bitwise_and(img,img,mask=mask_blue)\n",
        "res_green=cv2.bitwise_and(img,img,mask=mask_green)\n",
        "res_red1=cv2.bitwise_and(img,img,mask=mask_red)\n",
        "res_red2=cv2.bitwise_and(img,img,mask=mask_red2)\n",
        "res_red=cv2.bitwise_or(res_red1,res_red2)\n",
        "res_yellow=cv2.bitwise_and(img,img,mask=mask_yellow)\n",
        "\n",
        "#출력\n",
        "imgs={'original':img,'blue':res_blue,'green':res_green,'red':res_red,'yellow':res_yellow}\n",
        "\n",
        "for i, (key,value) in enumerate(imgs.items()):\n",
        "    plt.subplot(2,3,i+1)\n",
        "    plt.title(key)\n",
        "    plt.imshow(value[:,:,::-1])\n",
        "    plt.xticks([]); plt.yticks([])\n",
        "plt.show()"
      ],
      "metadata": {
        "id": "x62Fx48s8sK9"
      },
      "execution_count": null,
      "outputs": []
    },
    {
      "cell_type": "code",
      "source": [
        "#chroma key\n",
        "import cv2\n",
        "import numpy as np\n",
        "import matplotlib.pylab as plt\n",
        "\n",
        "img=cv2.imread('../img/man_chromakey.jpg')\n",
        "img2=cv2.imread('../img/street.jpg')\n",
        "\n",
        "#roi선택을 위한 좌표 계산\n",
        "height1,width1=img1.shape[:2]\n",
        "height2,width2=img2.shape[:2]\n",
        "x=(width2-width1)//2\n",
        "y=height2-height1\n",
        "w=x+width1\n",
        "h=y+height1\n",
        "\n",
        "chromakey=img[:10,:10,:]\n",
        "offset=20\n",
        "\n",
        "hsv_chroma=cv2.cvtColor(chromakey,cv2.COLOR_BGR2HSV)\n",
        "hsv_img=cv2.cvtColor(img,cv2.COLOR_BGR2HSV)\n",
        "\n",
        "chroma_h=hsv_chroma[:,:,0]\n",
        "lower=np.array([chroma_h.min()-offset,100,100])\n",
        "upper=np.array([chroma_h.max()+offset,255,255])\n",
        "\n",
        "mask=cv2.inRange(hsv_img,lower,upper)\n",
        "mask_inv=cv2.bitwise_not(mask)\n",
        "roi=img2[y:h,x:w]\n",
        "fg=cv2.bitwise_and(hsv_img,lower,upper)\n",
        "bg=cv2.bitwise_and(roi,roi,mask=mask)\n",
        "img2[y:h,x:w]=fg+bg\n",
        "\n",
        "cv2.imshow('chromakey',img1)\n",
        "cv2.imshow('added',img2)\n",
        "cv2"
      ],
      "metadata": {
        "id": "ctWndm5eA40r"
      },
      "execution_count": null,
      "outputs": []
    },
    {
      "cell_type": "code",
      "source": [
        "#seamlessclone 합성\n",
        "import cv2\n",
        "import numpy as np\n",
        "import matplotlib.pylab as plt\n",
        "\n",
        "img1=cv2.imread('../img/drawing.jpg')\n",
        "img2=cv2.imread('../img/hand.jpg')\n",
        "\n",
        "mask=np.full_like(img1,255)\n",
        "\n",
        "height,width=img2.shape[:2]\n",
        "center=(width//2,height//2)\n",
        "\n",
        "normal=cv2.seamlessClone(img1,img2,mask,center,cv2.NORMAL_CLONE)\n",
        "cv2.imshow('normal',normal)\n",
        "mixed=cv2.seamlessClone(img1,img2,mask,center,cv2.MIXED_CLONE)\n",
        "cv2.imshow('mixed',mixed)"
      ],
      "metadata": {
        "id": "e_jgbA2tEBnL"
      },
      "execution_count": null,
      "outputs": []
    },
    {
      "cell_type": "code",
      "source": [],
      "metadata": {
        "id": "zVIr9Sl2Ixqa"
      },
      "execution_count": null,
      "outputs": []
    }
  ]
}