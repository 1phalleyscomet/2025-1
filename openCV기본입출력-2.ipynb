{
  "nbformat": 4,
  "nbformat_minor": 0,
  "metadata": {
    "colab": {
      "provenance": [],
      "toc_visible": true,
      "authorship_tag": "ABX9TyNi6YHKOS5LOuUWMscbGMhe",
      "include_colab_link": true
    },
    "kernelspec": {
      "name": "python3",
      "display_name": "Python 3"
    },
    "language_info": {
      "name": "python"
    }
  },
  "cells": [
    {
      "cell_type": "markdown",
      "metadata": {
        "id": "view-in-github",
        "colab_type": "text"
      },
      "source": [
        "<a href=\"https://colab.research.google.com/github/1phalleyscomet/2025-1/blob/main/openCV_py.ipynb\" target=\"_parent\"><img src=\"https://colab.research.google.com/assets/colab-badge.svg\" alt=\"Open In Colab\"/></a>"
      ]
    },
    {
      "cell_type": "markdown",
      "source": [
        "### 기본 입출력"
      ],

      "metadata": {
        "id": "1kgeySvWY3FK"
      },
      "execution_count": null,
      "outputs": []
    },
    {
      "cell_type": "code",
      "source": [
        "#창관리\n",
        "file_path='../img/girl.jpg'\n",
        "img=cv2.imread(file_path)\n",
        "img_gray=cv2.imread(file_path,cv2.IMREAD_GRAYSCALE)\n",
        "\n",
        "cv2.namedWindow('origin',cv2.WINDOW_AUTOSIZE) #임의의 크기, 창 크기 재조정 불가\n",
        "cv2.namedWindow('gray',cv2.WINDOW_NORMAL) #이미지와 동일 크기, 창 크기 재조정 가능\n",
        "\n",
        "cv2.imshow('origin',img)\n",
        "cv2.imshow('gray',img_gray)\n",
        "\n",
        "cv2.moveWindow('origin',0,0)\n",
        "cv2.moveWindow('gray',100,100)\n",
        "#창 위치 이동 (제목,x좌표,y좌표)\n",
        "\n",
        "cv2.waitKey(0)\n",
        "cv2.resizeWindow('origin',200,200) #변경x\n",
        "cv2.resizeWindow('gray',100,100) #변경o\n",
        "#창 크기 변경(title,width,height)\n",
        "\n",
        "cv2.waitKey(0)\n",
        "cv2.destroyWindow('gray')\n",
        "\n",
        "cv2.waitKey(0)\n",
        "cv2.destroyAllWindows()"
      ],
      "metadata": {
        "id": "BL-_gjkP5jLc"
      },
      "execution_count": null,
      "outputs": []
    },
    {
      "cell_type": "code",
      "source": [
        "#key event\n",
        "import cv2\n",
        "img_file='../img/girl.jpg'\n",
        "img=cv2.imread(img_file)\n",
        "title='IMG'\n",
        "x,y=100,100\n",
        "\n",
        "while True:\n",
        "    cv2.imshow(title,img)\n",
        "    cv2.moveWindow(title,x,y)\n",
        "    key=cv2.waitKey(0) & 0xFF #키보드 입력을 무한 대기, 8비트 마스크처리\n",
        "    print(key,chr(key))\n",
        "    if key==ord('h'):\n",
        "        x-=10 #h키면 좌로 10이동\n",
        "    elif key==ord('j'):\n",
        "        y+=10\n",
        "    elif key==ord('k'):\n",
        "        y-=10\n",
        "    elif key==ord('l'):\n",
        "        x+=10\n",
        "    elif key==ord('q') or key==27: #27==esc(ASCII)\n",
        "        break\n",
        "        cv2.destroyAllWindows()\n",
        "cv2.moveWindow(title,x,y)"
      ],
      "metadata": {
        "id": "zWfkiLoU97Ss"
      },
      "execution_count": null,
      "outputs": []
    },
    {
      "cell_type": "code",
      "source": [
        "#mouse event\n",
        "import cv2\n",
        "title='mouse event'\n",
        "img=cv2.imread('../img/blank_500.jpg')\n",
        "cv2.imshow(title,img)\n",
        "\n",
        "def onMouse(event,x,y,flags,param):\n",
        "    print(event,x,y, )\n",
        "    if event==cv2.EVENT_LBUTTONDOWN:\n",
        "        cv2.circle(img,(x,y),30,(0,0,0),-1)\n",
        "        cv2.imshow(title,img)\n",
        "\n",
        "cv2.setMouseCallback(title,onMouse)\n",
        "\n",
        "while True:\n",
        "    if cv2.waitKey(0) & 0xFF==27: #0xFF 16진수\n",
        "        break\n",
        "\n",
        "cv2.destroyAllWindows()"
      ],
      "metadata": {
        "id": "OlK9PScJFLME"
      },
      "execution_count": null,
      "outputs": []
    },
    {
      "cell_type": "code",
      "source": [
        "import cv2\n",
        "\n",
        "title='mouse event2'\n",
        "img=cv2.imread('../img/blank_500.jpg')\n",
        "cv2.imshow(title,img)\n",
        "\n",
        "colors={'black':(0,0,0),'red':(0,0,255),'blue':(255,0,0),'green':(0,255,0)}\n",
        "\n",
        "def onMouse(event,x,y,flags,param):\n",
        "    print(event,x,y,flags)\n",
        "    coclr=colors['black']\n",
        "    if event==cv2.EVENT_LBUTTONDOWN:\n",
        "        if flags & cv2.EVENT_FLAG_CTRLKEY and cv2.EVENT_FLAG_SHIFTKEY:\n",
        "            color=colors['green']\n",
        "        elif flags & cv2.EVENT_FLAG_SHIFTKEY:\n",
        "            color=colors['blue']\n",
        "        elif flags & cv2.EVENT_FLAG_CTRLKEY:\n",
        "            color=colors['red']\n",
        "        cv2.circle(img,(x,y),30,color,-1)\n",
        "        cv2.imshow(title,img)\n",
        "\n",
        "cv2.setMouseCallback(title,onMouse)\n",
        "\n",
        "while True:\n",
        "    if cv2.waitKey(0) & 0xFF==27:\n",
        "        break\n",
        "cv2.destroyAllWindows()"
      ],
      "metadata": {
        "id": "pVGQv9qDIKC9"
      },
      "execution_count": null,
      "outputs": []
    },
    {
      "cell_type": "code",
      "source": [
        "#track-bar\n",
        "import cv2\n",
        "import numpy as np\n",
        "\n",
        "win_name='trackbar'\n",
        "img=cv2.imread('../img/blank_500.jpg')\n",
        "cv2.imshow(win_name,img)\n",
        "\n",
        "def onChange(x):\n",
        "    print(x) #트랙바 위치값\n",
        "    r=cv2.getTrackbarPos('R',win_name)\n",
        "    g=cv2.getTrackbarPos('G',win_name)\n",
        "    b=cv2.getTrackbarPos('B',win_name)\n",
        "    #위치값(trackbar_name,win_name)\n",
        "    print(r,g,b)\n",
        "    img[:]=[b,g,r] #기존 이미지에 새 픽셀값 적용 #img[슬라이싱 전체]=[pos값 RGB]\n",
        "    cv2.imshow(win_name,img)\n",
        "\n",
        "cv2.createTrackbar('R',win_name,255,255,onChange)\n",
        "cv2.createTrackbar('G',win_name,255,255,onChange)\n",
        "cv2.createTrackbar('B',win_name,255,255,onChange)\n",
        "#(trackbar_name,win_name,초기값,눈금개수(최대값),onChange(callback함수))\n",
        "\n",
        "while True:\n",
        "    if cv2.waitKey(0) & 0xFF==27:\n",
        "        break\n",
        "cv2.destroyAllWindows()"
      ],
      "metadata": {
        "id": "R4-3dyH7Jkbq"
      },
      "execution_count": null,
      "outputs": []
    }
  ]
}
